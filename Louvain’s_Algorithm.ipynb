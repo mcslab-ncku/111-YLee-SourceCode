{
  "nbformat": 4,
  "nbformat_minor": 0,
  "metadata": {
    "colab": {
      "name": "Louvain’s_Algorithm.ipynb",
      "provenance": []
    },
    "kernelspec": {
      "name": "python3",
      "display_name": "Python 3"
    },
    "language_info": {
      "name": "python"
    }
  },
  "cells": [
    {
      "cell_type": "code",
      "execution_count": null,
      "metadata": {
        "id": "2jDh2nAJ5drY"
      },
      "outputs": [],
      "source": [
        "import networkx as nx\n",
        "import numpy as np\n",
        "from community import community_louvain\n",
        "import matplotlib.pyplot as plt\n",
        "import random"
      ]
    },
    {
      "cell_type": "code",
      "source": [
        "# phone_queue=['UUltra', 'U11', 'V4025', 'U19e', 'V4445', 'MotoG', 'A51']\n",
        "phone_queue=['1', '2', '3', '4', '5', '6', '7']"
      ],
      "metadata": {
        "id": "kt9zh1XVJjM2"
      },
      "execution_count": null,
      "outputs": []
    },
    {
      "cell_type": "code",
      "source": [
        "def generate_network():\n",
        "    G = nx.Graph()  # or DiGraph, MultiGraph, MultiDiGraph, etc\n",
        "    G.add_weighted_edges_from([(phone_queue[0], phone_queue[1], 22.18),\n",
        "                               (phone_queue[0], phone_queue[2], 31.61),\n",
        "                               (phone_queue[0], phone_queue[3], 33.93),\n",
        "                               (phone_queue[0], phone_queue[4], 113.47),\n",
        "                               (phone_queue[0], phone_queue[5], 74.81),\n",
        "                               (phone_queue[0], phone_queue[6], 48.66),\n",
        "                               (phone_queue[1], phone_queue[2], 35.60),\n",
        "                               (phone_queue[1], phone_queue[3], 84.76),\n",
        "                               (phone_queue[1], phone_queue[4], 44.60),\n",
        "                               (phone_queue[1], phone_queue[5], 26.46),\n",
        "                               (phone_queue[1], phone_queue[6], 16.29),\n",
        "                               (phone_queue[2], phone_queue[3], 56.26),\n",
        "                               (phone_queue[2], phone_queue[4], 65.84),\n",
        "                               (phone_queue[2], phone_queue[5], 37.53),\n",
        "                               (phone_queue[2], phone_queue[6], 24.43),\n",
        "                               (phone_queue[3], phone_queue[4], 66.64),\n",
        "                               (phone_queue[3], phone_queue[5], 36.71),\n",
        "                               (phone_queue[3], phone_queue[6], 23.03),\n",
        "                               (phone_queue[4], phone_queue[5], 130.93),\n",
        "                               (phone_queue[4], phone_queue[6], 85.13),\n",
        "                               (phone_queue[5], phone_queue[6], 62.42),\n",
        "                               ])\n",
        "    return G"
      ],
      "metadata": {
        "id": "rRd-DBDuDDsU"
      },
      "execution_count": null,
      "outputs": []
    },
    {
      "cell_type": "code",
      "source": [
        "G = generate_network()\n",
        "print(nx.info(G))"
      ],
      "metadata": {
        "colab": {
          "base_uri": "https://localhost:8080/"
        },
        "id": "6XCb3LCL5xlv",
        "outputId": "54f224ab-e8c6-4516-c784-27a29019cbda"
      },
      "execution_count": null,
      "outputs": [
        {
          "output_type": "stream",
          "name": "stdout",
          "text": [
            "Graph with 7 nodes and 21 edges\n"
          ]
        }
      ]
    },
    {
      "cell_type": "markdown",
      "source": [
        "Visualize graph"
      ],
      "metadata": {
        "id": "phqirni56EOp"
      }
    },
    {
      "cell_type": "code",
      "source": [
        "pos = nx.spring_layout(G)\n",
        "# elarge = [(u, v) for (u, v, d) in G.edges(data=True)]\n",
        "# nx.draw_networkx_edges(G, pos, edgelist=elarge, width=3)\n",
        "# nx.draw_networkx_labels(G, pos, font_size=15, font_family=\"sans-serif\")\n",
        "# edge_labels = nx.get_edge_attributes(G, \"weight\")\n",
        "# nx.draw_networkx_edge_labels(G, pos, edge_labels,label_pos=0.7,font_size=10)\n",
        "# nx.draw(G, pos, node_size = 500, alpha = 0.8)\n",
        "plt.show()"
      ],
      "metadata": {
        "id": "-e8v7oQ06B-Y"
      },
      "execution_count": null,
      "outputs": []
    },
    {
      "cell_type": "markdown",
      "source": [
        "Apply Louvain’s Algorithm"
      ],
      "metadata": {
        "id": "RecJxNZH6e6H"
      }
    },
    {
      "cell_type": "code",
      "source": [
        "comms = community_louvain.best_partition(G, resolution=1.5)\n",
        "print(comms)"
      ],
      "metadata": {
        "colab": {
          "base_uri": "https://localhost:8080/"
        },
        "id": "PrMZu6Sd6KpP",
        "outputId": "9f75556c-fec7-4aec-aba7-b8cf6f0259a5"
      },
      "execution_count": null,
      "outputs": [
        {
          "output_type": "stream",
          "name": "stdout",
          "text": [
            "{'1': 0, '2': 1, '3': 1, '4': 1, '5': 2, '6': 2, '7': 3}\n"
          ]
        }
      ]
    },
    {
      "cell_type": "markdown",
      "source": [
        "Visualize Communities"
      ],
      "metadata": {
        "id": "gNXUyFEw6O3R"
      }
    },
    {
      "cell_type": "code",
      "source": [
        "# elarge = [(u, v) for (u, v, d) in G.edges(data=True)]\n",
        "# nx.draw_networkx_edges(G, pos, edgelist=elarge, width=3)\n",
        "# nx.draw_networkx_labels(G, pos, font_size=15, font_family=\"sans-serif\")\n",
        "# edge_labels = nx.get_edge_attributes(G, \"weight\")\n",
        "# nx.draw_networkx_edge_labels(G, pos, edge_labels,label_pos=0.7,font_size=10)\n",
        "# nx.draw(G, pos, node_size = 500, alpha = 0.8)\n",
        "\n",
        "unique_coms = np.unique(list(comms.values()))\n",
        "cmap = {\n",
        "    0 : '#ff00ff',\n",
        "    1 : '#ff00ff',\n",
        "    2 : 'yellow', \n",
        "    3 : '#7FFF00',\n",
        "    4 : 'green',\n",
        "    5 : 'yellow'\n",
        "}\n",
        "\n",
        "node_cmap = [cmap[v] for _,v in comms.items()]\n",
        "\n",
        "pos = nx.spring_layout(G)\n",
        "nx.draw_networkx_labels(G, pos, font_size=15, font_family=\"sans-serif\")\n",
        "nx.draw(G, pos, node_size = 1000, alpha = 0.8, node_color=node_cmap)\n",
        "# plt.title('Mobile Relationship',fontsize=20)\n",
        "plt.figure(figsize=(50, 20))\n",
        "plt.show()"
      ],
      "metadata": {
        "colab": {
          "base_uri": "https://localhost:8080/",
          "height": 265
        },
        "id": "cVUo5N_g6Mx3",
        "outputId": "5b985277-bbae-4f96-f43f-141f16405600"
      },
      "execution_count": null,
      "outputs": [
        {
          "output_type": "display_data",
          "data": {
            "text/plain": [
              "<Figure size 432x288 with 1 Axes>"
            ],
            "image/png": "[encoded data removed]"
          },
          "metadata": {}
        },
        {
          "output_type": "display_data",
          "data": {
            "text/plain": [
              "<Figure size 3600x1440 with 0 Axes>"
            ]
          },
          "metadata": {}
        }
      ]
    },
    {
      "cell_type": "code",
      "source": [
        "(100+96.296+89.352+99.074+83.796)/5"
      ],
      "metadata": {
        "colab": {
          "base_uri": "https://localhost:8080/"
        },
        "id": "s20Zd0UFJo7t",
        "outputId": "3e89112a-73be-41e2-b16a-764d0d2627bb"
      },
      "execution_count": null,
      "outputs": [
        {
          "output_type": "execute_result",
          "data": {
            "text/plain": [
              "93.70360000000001"
            ]
          },
          "metadata": {},
          "execution_count": 1
        }
      ]
    }
  ]
}