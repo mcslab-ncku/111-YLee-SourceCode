{
  "nbformat": 4,
  "nbformat_minor": 0,
  "metadata": {
    "colab": {
      "name": "Summary.ipynb",
      "provenance": [],
      "collapsed_sections": [
        "3eKkGgHbBmGR",
        "hrOv_RLC9Uve",
        "_VQq6Fwa9c5O",
        "MP4InYydBqnS",
        "ApU17ONNBvda",
        "GZ--ghNcU0nz",
        "IoSzGlqobh6m",
        "DfOYNFbQU3Ij",
        "WbV2OXU5Quvk",
        "ouqPwECQHpiN",
        "dYzSzY0iJ1rM",
        "5gsiuWZVKTyd",
        "BuAjEqvQCLVu",
        "5qcw_QbgCRM1",
        "Pph1ZDWhCWKl"
      ]
    },
    "kernelspec": {
      "name": "python3",
      "display_name": "Python 3"
    },
    "language_info": {
      "name": "python"
    }
  },
  "cells": [
    {
      "cell_type": "code",
      "execution_count": null,
      "metadata": {
        "id": "PlNodjzcBVWS",
        "colab": {
          "base_uri": "https://localhost:8080/"
        },
        "outputId": "b123b460-25d0-49b6-c592-3cf0ed5946a3"
      },
      "outputs": [
        {
          "output_type": "stream",
          "name": "stdout",
          "text": [
            "Drive already mounted at /content/drive; to attempt to forcibly remount, call drive.mount(\"/content/drive\", force_remount=True).\n"
          ]
        }
      ],
      "source": [
        "from google.colab import drive\n",
        "drive.mount('/content/drive') # 此處需要登入 google 帳號\n",
        "\n",
        "import os\n",
        "\n",
        "os.chdir('/content/drive/My Drive/MyResearch') #切換該目錄"
      ]
    },
    {
      "cell_type": "markdown",
      "source": [
        "## Part 1 Word Analysis"
      ],
      "metadata": {
        "id": "3eKkGgHbBmGR"
      }
    },
    {
      "cell_type": "markdown",
      "source": [
        "### With Stop Word"
      ],
      "metadata": {
        "id": "hrOv_RLC9Uve"
      }
    },
    {
      "cell_type": "code",
      "source": [
        "def calculate_word(text_file):  ##不含頻率\n",
        "  k = text_file.readlines()\n",
        "  total=''\n",
        "  for item in k:\n",
        "    str = item.split(' ')\n",
        "    for i in str:\n",
        "      i=i.strip()   #remove \\n\n",
        "      i=i.lower()   #轉小寫\n",
        "      total+=i+' '\n",
        "\n",
        "  total=total.split(' ')  #無排序\n",
        "  word_list=[]\n",
        "  for item in total:\n",
        "    if item not in word_list:\n",
        "      word_list.append(item)\n",
        "\n",
        "  return word_list"
      ],
      "metadata": {
        "id": "mZ4jtu6wBpv0"
      },
      "execution_count": null,
      "outputs": []
    },
    {
      "cell_type": "code",
      "source": [
        "### 計算Similarity 已經包含兩種計算方式\n",
        "def Similarity1_Similarity2(set1,set2):\n",
        "  intersection = set(set1) .intersection(set(set2) )\n",
        "  union=set(set1) .union(set(set2) )\n",
        "  Similarity1 = len(intersection)/max(len(set(set1) ), len(set(set2) ))\n",
        "  Similarity2 = 2*len(intersection)/ (len(set(set1))+len(set(set2)))\n",
        "\n",
        "  return Similarity1,Similarity2"
      ],
      "metadata": {
        "id": "oXMEcugBNH3V"
      },
      "execution_count": null,
      "outputs": []
    },
    {
      "cell_type": "code",
      "source": [
        "### 人 語音段落 記得改\n",
        "# 人的選項 A1 A2 B1 B2 段落選項 en1 en2 en3 en4 en5\n",
        "person1='A1'\n",
        "person2='A2'\n",
        "paragraph='en1'\n",
        "\n",
        "# with open('./20211103語音部分/%s/%s.txt'%(person1,paragraph), 'r') as f1:\n",
        "with open('./20220308語音加無線訊號/%s/%s.txt'%(person1,paragraph), 'r') as f1:\n",
        "  w1=calculate_word(f1)\n",
        "\n",
        "# with open('./20211103語音部分/%s/%s.txt'%(person2,paragraph), 'r') as f2:\n",
        "with open('./20220308語音加無線訊號/%s/%s.txt'%(person2,paragraph), 'r') as f2:\n",
        "  w2=calculate_word(f2)\n",
        "\n",
        "Similarity1_Similarity2(w1,w2)"
      ],
      "metadata": {
        "colab": {
          "base_uri": "https://localhost:8080/"
        },
        "id": "VqHIkDzm-KSf",
        "outputId": "7610b31f-8b1f-4a0f-a248-b1c1c79e5a19"
      },
      "execution_count": null,
      "outputs": [
        {
          "output_type": "execute_result",
          "data": {
            "text/plain": [
              "(0.5422535211267606, 0.5767790262172284)"
            ]
          },
          "metadata": {},
          "execution_count": 242
        }
      ]
    },
    {
      "cell_type": "markdown",
      "source": [
        "### Without Stop Word"
      ],
      "metadata": {
        "id": "_VQq6Fwa9c5O"
      }
    },
    {
      "cell_type": "code",
      "source": [
        "import nltk\n",
        "nltk.download('stopwords')\n",
        "from nltk.corpus import stopwords\n",
        "# stopwords.words('english')"
      ],
      "metadata": {
        "colab": {
          "base_uri": "https://localhost:8080/"
        },
        "id": "K_y1IjTu_gfO",
        "outputId": "09ab8642-7444-4b3c-8ae8-1a78c6aad1af"
      },
      "execution_count": null,
      "outputs": [
        {
          "output_type": "stream",
          "name": "stderr",
          "text": [
            "[nltk_data] Downloading package stopwords to /root/nltk_data...\n",
            "[nltk_data]   Unzipping corpora/stopwords.zip.\n"
          ]
        }
      ]
    },
    {
      "cell_type": "code",
      "source": [
        "def calculate_word(text_file):  ##不含頻率\n",
        "  k = text_file.readlines()\n",
        "  total=''\n",
        "  for item in k:\n",
        "    str = item.split(' ')\n",
        "  # str=str.strip()\n",
        "  # print(str)\n",
        "    for i in str:\n",
        "      i=i.strip()   #remove \\n\n",
        "      i=i.lower()   #轉小寫\n",
        "      total+=i+' '\n",
        "\n",
        "  total=total.split(' ')  #無排序\n",
        "  word_list=[]\n",
        "  for item in total:\n",
        "    if item not in word_list:\n",
        "      word_list.append(item)\n",
        "\n",
        "  return word_list"
      ],
      "metadata": {
        "id": "Fiz8VqWc_Yw-"
      },
      "execution_count": null,
      "outputs": []
    },
    {
      "cell_type": "code",
      "source": [
        "##移除stop word\n",
        "def remove_stopword(input_word):\n",
        "  without_stopword=[]\n",
        "  en_stops = set(stopwords.words('english'))\n",
        "  for word in input_word: \n",
        "    if word not in en_stops:\n",
        "        without_stopword.append(word)\n",
        "\n",
        "  return without_stopword"
      ],
      "metadata": {
        "id": "DEUU2E1d_No_"
      },
      "execution_count": null,
      "outputs": []
    },
    {
      "cell_type": "code",
      "source": [
        "### 計算Similarity 已經包含兩種計算方式\n",
        "def Similarity1_Similarity2(set1,set2):\n",
        "  intersection = set(set1) .intersection(set(set2) )\n",
        "  union=set(set1) .union(set(set2) )\n",
        "  Similarity1 = len(intersection)/max(len(set(set1) ), len(set(set2) ))\n",
        "  Similarity2 = 2*len(intersection)/ (len(set(set1))+len(set(set2)))\n",
        "\n",
        "  return Similarity1,Similarity2"
      ],
      "metadata": {
        "id": "0SoqMnnvOkRU"
      },
      "execution_count": null,
      "outputs": []
    },
    {
      "cell_type": "code",
      "source": [
        "### 路徑記得改\n",
        "### 人 語音段落 記得改\n",
        "# 人的選項 A1 A2 B1 B2 段落選項 en1 en2 en3 en4 en5\n",
        "person1='A1'\n",
        "person2='A2'\n",
        "paragraph='en1'\n",
        "\n",
        "# with open('./20211103語音部分/%s/%s.txt'%(person1,paragraph), 'r') as f1:\n",
        "with open('./20220308語音加無線訊號/%s/%s.txt'%(person1,paragraph), 'r') as f1:\n",
        "  w1=calculate_word(f1)\n",
        "  output1=remove_stopword(w1)\n",
        "\n",
        "# with open('./20211103語音部分/%s/%s.txt'%(person2,paragraph), 'r') as f2:\n",
        "with open('./20220308語音加無線訊號/%s/%s.txt'%(person2,paragraph), 'r') as f2:\n",
        "  w2=calculate_word(f2)\n",
        "  output2=remove_stopword(w2)\n",
        "\n",
        "Similarity1_Similarity2(output1,output2)"
      ],
      "metadata": {
        "colab": {
          "base_uri": "https://localhost:8080/"
        },
        "id": "myVzRYmP9f-W",
        "outputId": "646a268c-61fc-4ca3-aa78-621d275f6e9d"
      },
      "execution_count": null,
      "outputs": [
        {
          "output_type": "execute_result",
          "data": {
            "text/plain": [
              "(0.4111111111111111, 0.43529411764705883)"
            ]
          },
          "metadata": {},
          "execution_count": 214
        }
      ]
    },
    {
      "cell_type": "markdown",
      "source": [
        "## Part 2 Semantic-realted Analysis"
      ],
      "metadata": {
        "id": "MP4InYydBqnS"
      }
    },
    {
      "cell_type": "code",
      "source": [
        "import spacy \n",
        "# nlp = spacy.load(\"en\")\n",
        "nlp = spacy.load(\"en_core_web_sm\")"
      ],
      "metadata": {
        "id": "2YhN-7KJBu18"
      },
      "execution_count": null,
      "outputs": []
    },
    {
      "cell_type": "code",
      "source": [
        "def cleanup(token, lower = True):\n",
        "    if lower:\n",
        "       token = token.lower()\n",
        "    return token.strip()"
      ],
      "metadata": {
        "id": "czoComaWDanl"
      },
      "execution_count": null,
      "outputs": []
    },
    {
      "cell_type": "code",
      "source": [
        "def find_entity(filename):\n",
        "  dict_t=dict()\n",
        "  document = open(filename).read()\n",
        "  document = document.lower()\n",
        "  document = nlp(document)\n",
        "  \n",
        "  labels = set([w.label_ for w in document.ents]) \n",
        "  for label in labels: \n",
        "      # entities = [cleanup(e.string) for e in document.ents if label==e.label_] \n",
        "      entities = [cleanup(e.text) for e in document.ents if label==e.label_]\n",
        "      entities = list(set(entities)) \n",
        "      dict_t[label]=entities\n",
        "      print (label,entities)"
      ],
      "metadata": {
        "id": "PbBJcNVADhyt"
      },
      "execution_count": null,
      "outputs": []
    },
    {
      "cell_type": "code",
      "source": [
        "### 指印出特定兩個人的某一段語音 路徑一樣要改\n",
        "print('Person 1 :')\n",
        "find_entity('./20211103語音部分/B1/en1.txt')\n",
        "print()\n",
        "print('Person 2 :')\n",
        "find_entity('./20211103語音部分/B2/en2.txt')"
      ],
      "metadata": {
        "colab": {
          "base_uri": "https://localhost:8080/"
        },
        "id": "RxKDptXWDkVF",
        "outputId": "d0227371-1ae7-40de-b18e-b196b9660e94"
      },
      "execution_count": null,
      "outputs": [
        {
          "output_type": "stream",
          "name": "stdout",
          "text": [
            "Person 1 :\n",
            "PERSON ['lin-manuel', 'ida laila']\n",
            "TIME ['midnight']\n",
            "DATE ['years', 'only about 3 days', 'yesterday', '6 months']\n",
            "NORP ['chinese']\n",
            "GPE ['bundesliga', 'hong kong', 'taiwan', 'malaysia', 'japan', 'china', 'singapore', 'taipei']\n",
            "LOC ['asia']\n",
            "ORDINAL ['first']\n",
            "LANGUAGE ['mandarin', 'taiwanese']\n",
            "\n",
            "Person 2 :\n",
            "DATE ['today', 'over a hundred years ago']\n",
            "NORP ['japanese', 'taiwanese']\n",
            "GPE ['taipei', 'japan']\n"
          ]
        }
      ]
    },
    {
      "cell_type": "code",
      "source": [
        "### 印出所有語音段落\n",
        "per_list=['A1','A2','B1','B2']\n",
        "paragraph_list=['en1','en2','en3','en4','en5']\n",
        "\n",
        "for person in per_list:\n",
        "  for para in paragraph_list:\n",
        "    filename=person+'_'+para\n",
        "    print(person,para,\":\")\n",
        "    # find_entity('./20211103語音部分/%s/%s.txt'%(person,para))\n",
        "    find_entity('./20220308語音加無線訊號/%s/%s.txt'%(person,para))\n",
        "    print()"
      ],
      "metadata": {
        "colab": {
          "base_uri": "https://localhost:8080/"
        },
        "id": "fq52b7wnD2sl",
        "outputId": "dee30dac-8bc2-4f02-cedb-7239a23f973a"
      },
      "execution_count": null,
      "outputs": [
        {
          "output_type": "stream",
          "name": "stdout",
          "text": [
            "A1 en1 :\n",
            "DATE ['tomorrow']\n",
            "\n",
            "A1 en2 :\n",
            "DATE ['today']\n",
            "TIME ['tonight', 'morning']\n",
            "\n",
            "A1 en3 :\n",
            "ORDINAL ['secondly']\n",
            "GPE ['canada']\n",
            "ORG ['lowe']\n",
            "\n",
            "A1 en4 :\n",
            "CARDINAL ['one', 'a half']\n",
            "DATE ['tomorrow', 'a decade']\n",
            "\n",
            "A1 en5 :\n",
            "CARDINAL ['three']\n",
            "GPE ['iowa', 'u.s.']\n",
            "\n",
            "A2 en1 :\n",
            "DATE ['tomorrow', 'days ago', '6 months', 'that day']\n",
            "PERSON ['austin', 'sam', 'kathy bona']\n",
            "\n",
            "A2 en2 :\n",
            "DATE ['today']\n",
            "ORG ['nrt3']\n",
            "\n",
            "A2 en3 :\n",
            "CARDINAL ['two']\n",
            "PERSON ['jenna.']\n",
            "\n",
            "A2 en4 :\n",
            "CARDINAL ['one']\n",
            "DATE ['today', 'tomorrow']\n",
            "PERSON ['alito']\n",
            "\n",
            "A2 en5 :\n",
            "CARDINAL ['three']\n",
            "PERSON ['bobby bonilla iowa']\n",
            "ORG ['costco\\nimmigration']\n",
            "TIME ['8/2 hours ago']\n",
            "\n",
            "B1 en1 :\n",
            "GPE ['japan', 'hong kong', 'taiwan', 'iowa', 'singapore', 'taipei', 'china']\n",
            "CARDINAL ['106', 'two']\n",
            "DATE ['only about 3 days', 'just under a year-and-a-half']\n",
            "LOC ['asia']\n",
            "NORP ['taiwanese', 'christian', 'chinese']\n",
            "ORG ['midland\\njapan']\n",
            "ORDINAL ['first']\n",
            "\n",
            "B1 en2 :\n",
            "DATE ['today', '100 years ago']\n",
            "NORP ['japanese']\n",
            "GPE ['japan', 'taipei']\n",
            "\n",
            "B1 en3 :\n",
            "DATE ['today']\n",
            "NORP ['canadian']\n",
            "GPE ['taipei']\n",
            "\n",
            "B1 en4 :\n",
            "CARDINAL ['two']\n",
            "ORDINAL ['first']\n",
            "PERSON ['dana']\n",
            "ORG ['giants']\n",
            "\n",
            "B1 en5 :\n",
            "CARDINAL ['one', 'three']\n",
            "NORP ['iraqi']\n",
            "\n",
            "B2 en1 :\n",
            "DATE ['only about 3 days', 'yesterday', '6 months', 'year']\n",
            "NORP ['taiwanese', 'bulgarian', 'chinese']\n",
            "PERSON ['lawson']\n",
            "GPE ['hong kong', 'taiwan', 'iowa', 'singapore', 'taipei', 'china']\n",
            "\n",
            "B2 en2 :\n",
            "DATE ['today', 'friday', '100 years ago']\n",
            "NORP ['japanese']\n",
            "GPE ['japan']\n",
            "\n",
            "B2 en3 :\n",
            "GPE ['taipei city', 'texas']\n",
            "DATE ['today']\n",
            "PERSON ['few info']\n",
            "NORP ['canadian']\n",
            "ORG ['shana', 'walton ipod']\n",
            "ORDINAL ['second']\n",
            "\n",
            "B2 en4 :\n",
            "CARDINAL ['one', 'three', 'two']\n",
            "ORDINAL ['first']\n",
            "PERSON ['williams']\n",
            "\n",
            "B2 en5 :\n",
            "CARDINAL ['three']\n",
            "PERSON ['apolo ohno', 'kenneth walker', 'portola head']\n",
            "ORG ['northwell']\n",
            "\n"
          ]
        }
      ]
    },
    {
      "cell_type": "code",
      "source": [
        "### 這邊要自己整理  20211103的資料\n",
        "###用spaCy算內積\n",
        "##'NORP','ORG','PERSON','DATE','TIME','CARDINAL','GPE','QUANTITY','MONEY','LOC','ORDINAL','LANGUAGE','WORK_OF_ART','PRODUCT','FAC'\n",
        "import numpy as np\n",
        "A1_1_label=[0,1,1,2,0,0,0,0,0,0,0,0,0,0,0]\n",
        "A1_2_label=[0,0,0,0,3,0,0,0,0,0,0,0,0,0,0]\n",
        "A1_3_label=[0,0,0,0,0,1,1,0,0,0,0,0,0,0,0]\n",
        "A1_4_label=[0,1,1,3,0,1,0,1,1,0,0,0,1,0,0]\n",
        "A1_5_label=[0,1,0,0,1,2,0,0,0,0,0,0,0,0,0]\n",
        "\n",
        "A2_1_label=[0,1,0,2,0,0,0,0,0,0,0,0,0,0,0]\n",
        "A2_2_label=[0,0,0,1,3,1,0,0,0,0,0,0,0,0,0]\n",
        "A2_3_label=[0,0,0,0,0,1,1,0,0,0,0,0,0,0,0]\n",
        "A2_4_label=[0,2,0,3,0,1,0,1,1,0,0,0,0,0,0]\n",
        "A2_5_label=[0,2,0,0,1,1,0,0,0,0,0,0,0,0,0]\n",
        "\n",
        "B1_1_label=[3,0,0,5,0,1,7,0,0,1,1,1,0,0,0]\n",
        "B1_2_label=[1,0,0,2,0,0,1,0,0,0,0,0,0,0,0]\n",
        "B1_3_label=[1,0,1,0,0,0,0,0,0,0,1,1,0,0,0]\n",
        "B1_4_label=[0,0,0,0,0,1,0,0,0,0,0,0,0,0,0]\n",
        "B1_5_label=[0,0,0,0,0,0,2,0,0,0,1,0,0,0,0]\n",
        "\n",
        "B2_1_label=[3,0,1,8,0,0,7,0,0,0,1,1,0,0,0]\n",
        "B2_2_label=[1,0,0,2,0,0,2,0,0,0,0,1,0,0,0]\n",
        "B2_3_label=[1,1,2,1,0,0,1,0,0,0,1,0,0,0,0]\n",
        "B2_4_label=[0,0,0,0,0,1,0,0,0,0,0,0,0,0,0]\n",
        "B2_5_label=[0,1,4,1,0,0,1,0,0,0,0,0,0,0,0]"
      ],
      "metadata": {
        "id": "Zx0WTVeUEv9l"
      },
      "execution_count": null,
      "outputs": []
    },
    {
      "cell_type": "code",
      "source": [
        "### 這邊要自己整理  20220308的資料\n",
        "###用spaCy算內積\n",
        "##'NORP','ORG','PERSON','DATE','TIME','CARDINAL','GPE','QUANTITY','MONEY','LOC','ORDINAL','LANGUAGE','WORK_OF_ART','PRODUCT','FAC'  共15個\n",
        "# import numpy as np\n",
        "# A1_1_label=[0,0,0,1,1,0,0,0,0,0,0,0,0,0,0]\n",
        "# A1_2_label=[0,0,0,1,2,0,0,0,0,0,0,0,0,0,0]\n",
        "# A1_3_label=[1,0,1,1,0,0,1,0,0,0,1,0,0,0,0]\n",
        "# A1_4_label=[0,1,2,2,0,2,1,0,0,0,0,0,0,0,0]\n",
        "# A1_5_label=[0,1,3,0,0,1,3,0,0,0,0,0,0,0,0]\n",
        "\n",
        "# A2_1_label=[0,0,3,4,1,0,0,0,0,0,0,0,0,0,0]\n",
        "# A2_2_label=[0,0,0,2,0,0,0,0,0,0,0,0,0,0,0]\n",
        "# A2_3_label=[0,0,2,1,0,1,0,0,0,0,0,0,0,0,0]\n",
        "# A2_4_label=[1,0,1,1,0,1,1,1,0,0,0,0,0,0,0]\n",
        "# A2_5_label=[0,1,4,0,1,1,1,0,0,0,0,0,0,0,0]\n",
        "\n",
        "# B1_1_label=[3,0,0,1,0,2,8,0,0,1,1,0,0,0,0]\n",
        "# B1_2_label=[1,0,1,2,0,0,3,0,0,0,0,0,0,0,0]\n",
        "# B1_3_label=[2,1,0,1,0,0,3,0,0,0,0,0,0,0,0]\n",
        "# B1_4_label=[0,3,3,0,0,1,1,0,0,0,1,0,0,0,0]\n",
        "# B1_5_label=[1,0,0,0,0,2,0,0,0,0,0,0,0,0,0]\n",
        "\n",
        "# B2_1_label=[3,0,2,3,0,0,6,0,0,0,0,0,0,0,0]\n",
        "# B2_2_label=[1,0,2,3,0,0,1,0,0,0,0,0,0,0,0]\n",
        "# B2_3_label=[1,0,1,1,0,0,3,0,0,0,1,0,0,0,0]\n",
        "# B2_4_label=[0,0,4,0,0,2,2,0,0,0,1,0,1,0,0]\n",
        "# B2_5_label=[0,1,3,0,0,1,0,0,0,0,0,0,0,0,0]"
      ],
      "metadata": {
        "id": "Pf74f3e8L-_r"
      },
      "execution_count": null,
      "outputs": []
    },
    {
      "cell_type": "code",
      "source": [
        "### 統計\n",
        "LabelList=[A1_1_label,A1_2_label,A1_3_label,A1_4_label,A1_5_label, A2_1_label,A2_2_label,A2_3_label,A2_4_label,A2_5_label, B1_1_label,B1_2_label,B1_3_label,B1_4_label,B1_5_label, B2_1_label,B2_2_label,B2_3_label,B2_4_label,B2_5_label]\n",
        "temp=[0,0,0,0,0,0,0,0,0,0,0,0,0,0,0]\n",
        "for i in LabelList:\n",
        "  temp=np.add(temp,i)\n",
        "\n",
        "print(temp)"
      ],
      "metadata": {
        "colab": {
          "base_uri": "https://localhost:8080/"
        },
        "id": "qGkqnmC3E7DC",
        "outputId": "e9f13cf4-c89c-4dff-a2e7-b63f76d27859"
      },
      "execution_count": null,
      "outputs": [
        {
          "output_type": "stream",
          "name": "stdout",
          "text": [
            "[10 10 10 30  8 11 23  2  2  1  5  4  1  0  0]\n"
          ]
        }
      ]
    },
    {
      "cell_type": "code",
      "source": [
        "###每一段語音 總共5段\n",
        "spacy_label_list_en1=[A1_1_label,A2_1_label,B1_1_label,B2_1_label]\n",
        "spacy_label_list_en2=[A1_2_label,A2_2_label,B1_2_label,B2_2_label]\n",
        "spacy_label_list_en3=[A1_3_label,A2_3_label,B1_3_label,B2_3_label]\n",
        "spacy_label_list_en4=[A1_4_label,A2_4_label,B1_4_label,B2_4_label]\n",
        "spacy_label_list_en5=[A1_5_label,A2_5_label,B1_5_label,B2_5_label]"
      ],
      "metadata": {
        "id": "Py9woYV0FZnt"
      },
      "execution_count": null,
      "outputs": []
    },
    {
      "cell_type": "code",
      "source": [
        "#為了要normalize設的list 因為要找出每段語音最大值\n",
        "FindMax_List1=[]\n",
        "FindMax_List2=[]\n",
        "FindMax_List3=[]\n",
        "FindMax_List4=[]\n",
        "FindMax_List5=[]"
      ],
      "metadata": {
        "id": "n191sHp3gdQb"
      },
      "execution_count": null,
      "outputs": []
    },
    {
      "cell_type": "code",
      "source": [
        "### 算該段語音 所有人的內積\n",
        "per_list=['A1','A2','B1','B2']\n",
        "\n",
        "print(\"第一段語音\")\n",
        "for i in range(len(spacy_label_list_en1)):\n",
        "  for j in range(len(spacy_label_list_en1)):\n",
        "    print(per_list[i],per_list[j])\n",
        "    print(np.dot(np.array(spacy_label_list_en1[i]), np.array(spacy_label_list_en1[j])))\n",
        "    if i!=j:\n",
        "      FindMax_List1.append(np.dot(np.array(spacy_label_list_en1[i]), np.array(spacy_label_list_en1[j])))\n",
        "    print()\n",
        "\n",
        "print(\"第二段語音\")\n",
        "for i in range(len(spacy_label_list_en2)):\n",
        "  for j in range(len(spacy_label_list_en2)):\n",
        "    print(per_list[i],per_list[j])\n",
        "    print(np.dot(np.array(spacy_label_list_en2[i]), np.array(spacy_label_list_en2[j])))\n",
        "    if i!=j:\n",
        "      FindMax_List2.append(np.dot(np.array(spacy_label_list_en2[i]), np.array(spacy_label_list_en2[j])))\n",
        "    print()\n",
        "\n",
        "print(\"第三段語音\")\n",
        "for i in range(len(spacy_label_list_en3)):\n",
        "  for j in range(len(spacy_label_list_en3)):\n",
        "    print(per_list[i],per_list[j])\n",
        "    print(np.dot(np.array(spacy_label_list_en3[i]), np.array(spacy_label_list_en3[j])))\n",
        "    if i!=j:\n",
        "      FindMax_List3.append(np.dot(np.array(spacy_label_list_en3[i]), np.array(spacy_label_list_en3[j])))\n",
        "    print()\n",
        "\n",
        "print(\"第四段語音\")\n",
        "for i in range(len(spacy_label_list_en4)):\n",
        "  for j in range(len(spacy_label_list_en4)):\n",
        "    print(per_list[i],per_list[j])\n",
        "    print(np.dot(np.array(spacy_label_list_en4[i]), np.array(spacy_label_list_en4[j])))\n",
        "    if i!=j:\n",
        "      FindMax_List4.append(np.dot(np.array(spacy_label_list_en4[i]), np.array(spacy_label_list_en4[j])))\n",
        "    print()\n",
        "\n",
        "print(\"第五段語音\")\n",
        "for i in range(len(spacy_label_list_en5)):\n",
        "  for j in range(len(spacy_label_list_en5)):\n",
        "    print(per_list[i],per_list[j])\n",
        "    print(np.dot(np.array(spacy_label_list_en5[i]), np.array(spacy_label_list_en5[j])))\n",
        "    if i!=j:\n",
        "      FindMax_List5.append(np.dot(np.array(spacy_label_list_en5[i]), np.array(spacy_label_list_en5[j])))\n",
        "    print()"
      ],
      "metadata": {
        "colab": {
          "base_uri": "https://localhost:8080/"
        },
        "id": "61UrGQDCFz6t",
        "outputId": "a5e69c17-e0f9-49d8-c379-f95e5cfcc589"
      },
      "execution_count": null,
      "outputs": [
        {
          "output_type": "stream",
          "name": "stdout",
          "text": [
            "第一段語音\n",
            "A1 A1\n",
            "2\n",
            "\n",
            "A1 A2\n",
            "5\n",
            "\n",
            "A1 B1\n",
            "1\n",
            "\n",
            "A1 B2\n",
            "3\n",
            "\n",
            "A2 A1\n",
            "5\n",
            "\n",
            "A2 A2\n",
            "26\n",
            "\n",
            "A2 B1\n",
            "4\n",
            "\n",
            "A2 B2\n",
            "18\n",
            "\n",
            "B1 A1\n",
            "1\n",
            "\n",
            "B1 A2\n",
            "4\n",
            "\n",
            "B1 B1\n",
            "80\n",
            "\n",
            "B1 B2\n",
            "60\n",
            "\n",
            "B2 A1\n",
            "3\n",
            "\n",
            "B2 A2\n",
            "18\n",
            "\n",
            "B2 B1\n",
            "60\n",
            "\n",
            "B2 B2\n",
            "58\n",
            "\n",
            "第二段語音\n",
            "A1 A1\n",
            "5\n",
            "\n",
            "A1 A2\n",
            "2\n",
            "\n",
            "A1 B1\n",
            "2\n",
            "\n",
            "A1 B2\n",
            "3\n",
            "\n",
            "A2 A1\n",
            "2\n",
            "\n",
            "A2 A2\n",
            "4\n",
            "\n",
            "A2 B1\n",
            "4\n",
            "\n",
            "A2 B2\n",
            "6\n",
            "\n",
            "B1 A1\n",
            "2\n",
            "\n",
            "B1 A2\n",
            "4\n",
            "\n",
            "B1 B1\n",
            "15\n",
            "\n",
            "B1 B2\n",
            "12\n",
            "\n",
            "B2 A1\n",
            "3\n",
            "\n",
            "B2 A2\n",
            "6\n",
            "\n",
            "B2 B1\n",
            "12\n",
            "\n",
            "B2 B2\n",
            "15\n",
            "\n",
            "第三段語音\n",
            "A1 A1\n",
            "5\n",
            "\n",
            "A1 A2\n",
            "3\n",
            "\n",
            "A1 B1\n",
            "6\n",
            "\n",
            "A1 B2\n",
            "7\n",
            "\n",
            "A2 A1\n",
            "3\n",
            "\n",
            "A2 A2\n",
            "6\n",
            "\n",
            "A2 B1\n",
            "1\n",
            "\n",
            "A2 B2\n",
            "3\n",
            "\n",
            "B1 A1\n",
            "6\n",
            "\n",
            "B1 A2\n",
            "1\n",
            "\n",
            "B1 B1\n",
            "15\n",
            "\n",
            "B1 B2\n",
            "12\n",
            "\n",
            "B2 A1\n",
            "7\n",
            "\n",
            "B2 A2\n",
            "3\n",
            "\n",
            "B2 B1\n",
            "12\n",
            "\n",
            "B2 B2\n",
            "13\n",
            "\n",
            "第四段語音\n",
            "A1 A1\n",
            "14\n",
            "\n",
            "A1 A2\n",
            "7\n",
            "\n",
            "A1 B1\n",
            "12\n",
            "\n",
            "A1 B2\n",
            "14\n",
            "\n",
            "A2 A1\n",
            "7\n",
            "\n",
            "A2 A2\n",
            "6\n",
            "\n",
            "A2 B1\n",
            "5\n",
            "\n",
            "A2 B2\n",
            "8\n",
            "\n",
            "B1 A1\n",
            "12\n",
            "\n",
            "B1 A2\n",
            "5\n",
            "\n",
            "B1 B1\n",
            "21\n",
            "\n",
            "B1 B2\n",
            "17\n",
            "\n",
            "B2 A1\n",
            "14\n",
            "\n",
            "B2 A2\n",
            "8\n",
            "\n",
            "B2 B1\n",
            "17\n",
            "\n",
            "B2 B2\n",
            "26\n",
            "\n",
            "第五段語音\n",
            "A1 A1\n",
            "20\n",
            "\n",
            "A1 A2\n",
            "17\n",
            "\n",
            "A1 B1\n",
            "2\n",
            "\n",
            "A1 B2\n",
            "11\n",
            "\n",
            "A2 A1\n",
            "17\n",
            "\n",
            "A2 A2\n",
            "20\n",
            "\n",
            "A2 B1\n",
            "2\n",
            "\n",
            "A2 B2\n",
            "14\n",
            "\n",
            "B1 A1\n",
            "2\n",
            "\n",
            "B1 A2\n",
            "2\n",
            "\n",
            "B1 B1\n",
            "5\n",
            "\n",
            "B1 B2\n",
            "2\n",
            "\n",
            "B2 A1\n",
            "11\n",
            "\n",
            "B2 A2\n",
            "14\n",
            "\n",
            "B2 B1\n",
            "2\n",
            "\n",
            "B2 B2\n",
            "11\n",
            "\n"
          ]
        }
      ]
    },
    {
      "cell_type": "code",
      "source": [
        "### 算內積 要調整是要算哪兩個人的\n",
        "person1=A1_1_label\n",
        "person2=A2_1_label\n",
        "\n",
        "InnerProduct=np.dot(np.array(person1), np.array(person2))\n",
        "\n",
        "print(InnerProduct)"
      ],
      "metadata": {
        "id": "eFrxWRMbFGW1",
        "colab": {
          "base_uri": "https://localhost:8080/"
        },
        "outputId": "cb98aa19-b748-483e-9428-afa0366d9eeb"
      },
      "execution_count": null,
      "outputs": [
        {
          "output_type": "stream",
          "name": "stdout",
          "text": [
            "5\n"
          ]
        }
      ]
    },
    {
      "cell_type": "code",
      "source": [
        "### 每段語音計算完畢後記得Normalize"
      ],
      "metadata": {
        "id": "0oXYLft7HNOF"
      },
      "execution_count": null,
      "outputs": []
    },
    {
      "cell_type": "code",
      "source": [
        "### 找出每段語音計算內積後的最大值\n",
        "Max_en1=max(FindMax_List1)\n",
        "Max_en2=max(FindMax_List2)\n",
        "Max_en3=max(FindMax_List3)\n",
        "Max_en4=max(FindMax_List4)\n",
        "Max_en5=max(FindMax_List5)"
      ],
      "metadata": {
        "id": "ezIvjV_Sg_3s"
      },
      "execution_count": null,
      "outputs": []
    },
    {
      "cell_type": "code",
      "source": [
        "print(Max_en1,Max_en2,Max_en3,Max_en4,Max_en5)"
      ],
      "metadata": {
        "colab": {
          "base_uri": "https://localhost:8080/"
        },
        "id": "cAO-cBjAO3o5",
        "outputId": "e1c6f28d-6700-4f17-a4f7-190dac89b8f5"
      },
      "execution_count": null,
      "outputs": [
        {
          "output_type": "stream",
          "name": "stdout",
          "text": [
            "100 9 4 14 5\n"
          ]
        }
      ]
    },
    {
      "cell_type": "markdown",
      "source": [
        "## Part 3 Clustering Analysis"
      ],
      "metadata": {
        "id": "ApU17ONNBvda"
      }
    },
    {
      "cell_type": "code",
      "source": [
        "### 要先找出Top-10字詞才可以分群"
      ],
      "metadata": {
        "id": "0lFG1PJXByyE"
      },
      "execution_count": null,
      "outputs": []
    },
    {
      "cell_type": "code",
      "source": [
        "!pip install adjustText"
      ],
      "metadata": {
        "colab": {
          "base_uri": "https://localhost:8080/"
        },
        "id": "06Rpg9joIKWF",
        "outputId": "9bfdbd72-2f4d-408c-f125-0c11d8d76505"
      },
      "execution_count": null,
      "outputs": [
        {
          "output_type": "stream",
          "name": "stdout",
          "text": [
            "Looking in indexes: https://pypi.org/simple, https://us-python.pkg.dev/colab-wheels/public/simple/\n",
            "Collecting adjustText\n",
            "  Downloading adjustText-0.7.3.tar.gz (7.5 kB)\n",
            "Requirement already satisfied: numpy in /usr/local/lib/python3.7/dist-packages (from adjustText) (1.21.6)\n",
            "Requirement already satisfied: matplotlib in /usr/local/lib/python3.7/dist-packages (from adjustText) (3.2.2)\n",
            "Requirement already satisfied: python-dateutil>=2.1 in /usr/local/lib/python3.7/dist-packages (from matplotlib->adjustText) (2.8.2)\n",
            "Requirement already satisfied: cycler>=0.10 in /usr/local/lib/python3.7/dist-packages (from matplotlib->adjustText) (0.11.0)\n",
            "Requirement already satisfied: kiwisolver>=1.0.1 in /usr/local/lib/python3.7/dist-packages (from matplotlib->adjustText) (1.4.3)\n",
            "Requirement already satisfied: pyparsing!=2.0.4,!=2.1.2,!=2.1.6,>=2.0.1 in /usr/local/lib/python3.7/dist-packages (from matplotlib->adjustText) (3.0.9)\n",
            "Requirement already satisfied: typing-extensions in /usr/local/lib/python3.7/dist-packages (from kiwisolver>=1.0.1->matplotlib->adjustText) (4.1.1)\n",
            "Requirement already satisfied: six>=1.5 in /usr/local/lib/python3.7/dist-packages (from python-dateutil>=2.1->matplotlib->adjustText) (1.15.0)\n",
            "Building wheels for collected packages: adjustText\n",
            "  Building wheel for adjustText (setup.py) ... \u001b[?25l\u001b[?25hdone\n",
            "  Created wheel for adjustText: filename=adjustText-0.7.3-py3-none-any.whl size=7097 sha256=ecff70a8b69f7b29567bb9445df9c08212c57a2fb9bc1f6bf8c8d2d178ecc1c1\n",
            "  Stored in directory: /root/.cache/pip/wheels/2f/98/32/afbf902d8f040fadfdf0a44357e4ab750afe165d873bf5893d\n",
            "Successfully built adjustText\n",
            "Installing collected packages: adjustText\n",
            "Successfully installed adjustText-0.7.3\n"
          ]
        }
      ]
    },
    {
      "cell_type": "code",
      "source": [
        "import matplotlib.pyplot as plt\n",
        "import seaborn as sns\n",
        "from sklearn.decomposition import PCA\n",
        "import pandas as pd\n",
        "import numpy as np\n",
        "import adjustText\n",
        "from adjustText import adjust_text\n",
        "from sklearn import datasets\n",
        "from sklearn.cluster import DBSCAN\n",
        "import difflib\n",
        "from sklearn.cluster import KMeans"
      ],
      "metadata": {
        "id": "rDWtk0ThIBtm"
      },
      "execution_count": null,
      "outputs": []
    },
    {
      "cell_type": "code",
      "source": [
        "import numpy as np\n",
        "\n",
        "def load_glove_model(File):\n",
        "    print(\"Loading Glove Model\")\n",
        "    glove_model = {}\n",
        "    with open(File,'r') as f:\n",
        "        for line in f:\n",
        "            split_line = line.split()\n",
        "            word = split_line[0]\n",
        "            embedding = np.array(split_line[1:], dtype=np.float64)\n",
        "            glove_model[word] = embedding\n",
        "    print(f\"{len(glove_model)} words loaded!\")\n",
        "    return glove_model"
      ],
      "metadata": {
        "id": "_aQFFG4PHeuU"
      },
      "execution_count": null,
      "outputs": []
    },
    {
      "cell_type": "code",
      "source": [
        "from gensim.models.keyedvectors import KeyedVectors\n",
        "\n",
        "word_vectors = KeyedVectors.load_word2vec_format(\\\n",
        "    './20211103語音部分/GoogleNews-vectors-negative300.bin.gz', \\\n",
        "    binary = True, limit = 1000000)"
      ],
      "metadata": {
        "id": "KGdGj3oPH6qV"
      },
      "execution_count": null,
      "outputs": []
    },
    {
      "cell_type": "code",
      "source": [
        "###要自己整理  20211103的資料\n",
        "\n",
        "# top10_term={\n",
        "# 'A1_1':['want', 'contract', 'work', 'finished', 'well', 'bonuses', 'pay', 'new', 'factory', 'old'],\n",
        "# 'A2_1':['want', 'contract', 'work', 'finished', 'borrow', 'bonuses', 'pay', 'old', 'staff', 'hey'],\n",
        "# 'A1_2':['really', 'better', 'get', 'good', 'okay', 'lost', 'live', 'trouble', 'last', 'hotel'],\n",
        "# 'A2_2':['okay', 'really', 'take', 'lost', 'get', 'live', 'trouble', 'last', 'yes', 'hotel'],\n",
        "# 'A1_3':['okay', 'fat', 'would', 'even', 'tell', 'boss', 'still', 'well', 'person', 'said'],\n",
        "# 'A2_3':['fat', 'really', 'okay', 'boss', 'call', 'well', 'even', 'would', 'tell', 'overweight'],\n",
        "# 'A1_4':['nutrition', 'still', 'cops', 'new', 'need', 'going', 'eat', 'day', 'cut', 'weight'],\n",
        "# 'A2_4':['would', 'still', 'starting', 'need', 'going', 'eat', 'cut', 'weight', 'nutrition', 'vegetarian'],\n",
        "# 'A1_5':['get', 'held', 'actually', 'visa', 'time', 'questions', 'going', 'even', 'smoke','problems'],\n",
        "# 'A2_5':['get', 'held', 'business', 'visa', 'actually', 'play', 'time', 'going', 'problems', 'getting'],\n",
        "\n",
        "# 'B1_1':['taiwan', 'japan', 'hong', 'kong', 'speaking', 'china', 'speak', 'like', 'long', 'understand'],\n",
        "# 'B2_1':['taiwan', 'asia', 'japan', 'hong', 'kong','sunday', 'speak', 'like', 'long', 'cool'],\n",
        "# 'B1_2':['incense', 'okay', 'japanese', 'right', 'say', 'prayer', 'really', 'hey', 'soul', 'sister'],\n",
        "# 'B2_2':['really', 'japanese', 'incense', 'say', 'prayer', 'list', 'employees', 'unique', 'unlike', 'temple'],\n",
        "# 'B1_3':['well', 'need', 'want', 'really', 'texting', 'driving', 'oh', 'give', 'automatic', 'sure'],\n",
        "# 'B2_3':['well', 'call', 'sure', 'really', 'want', 'license', 'texting', 'driving', 'give', 'need'],\n",
        "# 'B1_4':['yeah', 'two', 'sisters', 'hair', 'think', 'well', 'brother', 'sister', 'younger','look'],\n",
        "# 'B2_4':['two', 'sisters', 'look', 'alike', 'hair', 'dance', 'think', 'married', 'brother', 'sister'],\n",
        "# 'B1_5':['well', 'business', 'work', 'yes', 'also', 'owner', 'around', 'want', 'maybe', 'side'],\n",
        "# 'B2_5':['well', 'like', 'business', 'yes', 'also', 'around', 'every', 'maybe', 'side', 'lucky']\n",
        "# }"
      ],
      "metadata": {
        "id": "tGP3r60xUglx"
      },
      "execution_count": null,
      "outputs": []
    },
    {
      "cell_type": "code",
      "source": [
        "###要自己整理  20220308的資料\n",
        "\n",
        "top10_term={\n",
        "'A1_1':['want', 'work', 'call', 'well', 'bonus', 'pay', 'new', 'staff', 'hey', 'borrow'],\n",
        "'A2_1':['want', 'wrong', 'work', 'finished', 'well', 'factory', 'hey', 'borrow', 'laptop', 'getting'],\n",
        "'A1_2':['really', 'get', 'tired', 'hotel', 'okay', 'better', 'want', 'would', 'good', 'hey'],\n",
        "'A2_2':['really', 'got', 'tired', 'okay', 'good', 'well', 'time', 'trouble', 'yes', 'would'],\n",
        "'A1_3':['okay', 'would', 'well', 'really', 'told', 'your', 'fat', 'even', 'tell', 'still'],\n",
        "'A2_3':['tell', 'would', 'okay', 'really', 'person', 'friend', 'need', 'start', 'something', 'often'],\n",
        "'A1_4':['new', 'possibly', 'day', 'little', 'vegetarian', 'would', 'red', 'starting', 'time', 'tomorrow'],\n",
        "'A2_4':['need', 'weight', 'recommend', 'still', 'call', 'think', 'vegetarian', 'rice', 'starting', 'new'],\n",
        "'A1_5':['us', 'get', 'immigration', 'visa', 'time', 'problems', 'getting', 'tv', 'pipe', 'held'],\n",
        "'A2_5':['get', 'problem', 'bus', 'immigration', 'business', 'question', 'getting', 'city', 'thought', 'hours'],\n",
        "\n",
        "'B1_1':['long', 'time', 'taiwan', 'asia', 'japan', 'hong', 'kong', 'speaking', 'Taipei', 'nice'],\n",
        "'B2_1':['hong', 'kong', 'china', 'speak', 'think', 'totally', 'right', 'seen', 'many', 'audit'],\n",
        "'B1_2':['right', 'okay', 'really', 'well', 'japan', 'stay', 'full', 'temple', 'unique', 'like'],\n",
        "'B2_2':['really', 'well', 'japanese', 'right', 'okay', 'incense', 'unique', 'doll', 'life', 'style'],\n",
        "'B1_3':['well', 'really', 'get', 'car', 'driving', 'want', 'ipod', 'need', 'okay', 'maybe'],\n",
        "'B2_3':['want', 'car', 'really', 'sure', 'need', 'get', 'MRT', 'driving', 'well', 'standard'],\n",
        "'B1_4':['look', 'well', 'style', 'hair', 'sisters', 'different', 'like', 'brothers', 'two', 'younger'],\n",
        "'B2_4':['well', 'sisters', 'think', 'hey', 'mike', 'brothers', 'three', 'look', 'alike', 'listen'],\n",
        "'B1_5':['well', 'head', 'department', 'always', 'everybody', 'maybe', 'offensive', 'lottery', 'post', 'boss'],\n",
        "'B2_5':['well', 'office', 'also', 'always', 'actually', 'maybe', 'like', 'private', 'business', 'least']\n",
        "}"
      ],
      "metadata": {
        "id": "r1jjcRWMYQfc"
      },
      "execution_count": null,
      "outputs": []
    },
    {
      "cell_type": "code",
      "source": [
        "person1='A1_1'\n",
        "person2='A2_1'"
      ],
      "metadata": {
        "id": "9S61ENISU-SJ"
      },
      "execution_count": null,
      "outputs": []
    },
    {
      "cell_type": "code",
      "source": [
        "### 計算Similarity 已經包含兩種計算方式\n",
        "def Similarity1_Similarity2(set1,set2):\n",
        "  intersection = set(set1) .intersection(set(set2) )\n",
        "  union=set(set1) .union(set(set2) )\n",
        "  Similarity1 = len(intersection)/max(len(set(set1) ), len(set(set2) ))\n",
        "  Similarity2 = 2*len(intersection)/ (len(set(set1))+len(set(set2)))\n",
        "\n",
        "  return Similarity1,Similarity2"
      ],
      "metadata": {
        "id": "JOM3spdCXrA3"
      },
      "execution_count": null,
      "outputs": []
    },
    {
      "cell_type": "markdown",
      "source": [
        "### DBSCAN"
      ],
      "metadata": {
        "id": "GZ--ghNcU0nz"
      }
    },
    {
      "cell_type": "code",
      "source": [
        "### 可調參數:eps(距離多少內視為同一群) min_samples(一個群最少幾個點)\n",
        "def display_DBSCAN(model, words):\n",
        "    # Take word vectors\n",
        "    word_vectors = np.array([model[w] for w in words])\n",
        "    clustering=DBSCAN(eps=2.0,min_samples=1).fit(word_vectors)\n",
        "    # print(clustering.labels_)\n",
        "\n",
        "    return clustering.labels_"
      ],
      "metadata": {
        "id": "6I5nZndjU2iT"
      },
      "execution_count": null,
      "outputs": []
    },
    {
      "cell_type": "code",
      "source": [
        "lab1=display_DBSCAN(word_vectors, top10_term[person1])\n",
        "lab2=display_DBSCAN(word_vectors, top10_term[person2])"
      ],
      "metadata": {
        "colab": {
          "base_uri": "https://localhost:8080/",
          "height": 184
        },
        "id": "uLdg9vzKWvHQ",
        "outputId": "53a5df9a-634d-41b1-e989-c59ff6c8c9c0"
      },
      "execution_count": null,
      "outputs": [
        {
          "output_type": "error",
          "ename": "TypeError",
          "evalue": "ignored",
          "traceback": [
            "\u001b[0;31m---------------------------------------------------------------------------\u001b[0m",
            "\u001b[0;31mTypeError\u001b[0m                                 Traceback (most recent call last)",
            "\u001b[0;32m<ipython-input-231-63a6de0631ff>\u001b[0m in \u001b[0;36m<module>\u001b[0;34m()\u001b[0m\n\u001b[0;32m----> 1\u001b[0;31m \u001b[0mlab1\u001b[0m\u001b[0;34m=\u001b[0m\u001b[0mdisplay_DBSCAN\u001b[0m\u001b[0;34m(\u001b[0m\u001b[0mword_vectors\u001b[0m\u001b[0;34m,\u001b[0m \u001b[0mtop10_term\u001b[0m\u001b[0;34m[\u001b[0m\u001b[0mperson1\u001b[0m\u001b[0;34m]\u001b[0m\u001b[0;34m)\u001b[0m\u001b[0;34m\u001b[0m\u001b[0;34m\u001b[0m\u001b[0m\n\u001b[0m\u001b[1;32m      2\u001b[0m \u001b[0mlab2\u001b[0m\u001b[0;34m=\u001b[0m\u001b[0mdisplay_DBSCAN\u001b[0m\u001b[0;34m(\u001b[0m\u001b[0mword_vectors\u001b[0m\u001b[0;34m,\u001b[0m \u001b[0mtop10_term\u001b[0m\u001b[0;34m[\u001b[0m\u001b[0mperson2\u001b[0m\u001b[0;34m]\u001b[0m\u001b[0;34m)\u001b[0m\u001b[0;34m\u001b[0m\u001b[0;34m\u001b[0m\u001b[0m\n",
            "\u001b[0;31mTypeError\u001b[0m: unhashable type: 'list'"
          ]
        }
      ]
    },
    {
      "cell_type": "code",
      "source": [
        "####儲存分群後每個群裡面有哪些字詞\n",
        "lab_0_per1=[]\n",
        "lab_1_per1=[]\n",
        "lab_2_per1=[]\n",
        "lab_3_per1=[]\n",
        "lab_4_per1=[]\n",
        "lab_5_per1=[]\n",
        "lab_6_per1=[]\n",
        "lab_7_per1=[]\n",
        "lab_8_per1=[]\n",
        "lab_9_per1=[]\n",
        "\n",
        "lab_0_per2=[]\n",
        "lab_1_per2=[]\n",
        "lab_2_per2=[]\n",
        "lab_3_per2=[]\n",
        "lab_4_per2=[]\n",
        "lab_5_per2=[]\n",
        "lab_6_per2=[]\n",
        "lab_7_per2=[]\n",
        "lab_8_per2=[]\n",
        "lab_9_per2=[]"
      ],
      "metadata": {
        "id": "_oVT1jUZWzwg"
      },
      "execution_count": null,
      "outputs": []
    },
    {
      "cell_type": "code",
      "source": [
        "### 把字詞分群 分別加入所屬list\n",
        "for i in range(10):\n",
        "  if lab1[i]==0:\n",
        "        lab_0_per1.append(top10_term[person1][i])\n",
        "  elif lab1[i]==1:\n",
        "        lab_1_per1.append(top10_term[person1][i])\n",
        "  elif lab1[i]==2:\n",
        "        lab_2_per1.append(top10_term[person1][i])\n",
        "  elif lab1[i]==3:\n",
        "        lab_3_per1.append(top10_term[person1][i])\n",
        "  elif lab1[i]==4:\n",
        "        lab_4_per1.append(top10_term[person1][i])\n",
        "  elif lab1[i]==5:\n",
        "        lab_5_per1.append(top10_term[person1][i])\n",
        "  elif lab1[i]==6:\n",
        "        lab_6_per1.append(top10_term[person1][i])\n",
        "  elif lab1[i]==7:\n",
        "        lab_7_per1.append(top10_term[person1][i])\n",
        "  elif lab1[i]==8:\n",
        "        lab_8_per1.append(top10_term[person1][i])\n",
        "  elif lab1[i]==9:\n",
        "        lab_9_per1.append(top10_term[person1][i])\n",
        "\n",
        "  if lab2[i]==0:\n",
        "        lab_0_per2.append(top10_term[person2][i])\n",
        "  elif lab2[i]==1:\n",
        "        lab_1_per2.append(top10_term[person2][i])\n",
        "  elif lab2[i]==2:\n",
        "        lab_2_per2.append(top10_term[person2][i])\n",
        "  elif lab2[i]==3:\n",
        "        lab_3_per2.append(top10_term[person2][i])\n",
        "  elif lab2[i]==4:\n",
        "        lab_4_per2.append(top10_term[person2][i])\n",
        "  elif lab2[i]==5:\n",
        "        lab_5_per2.append(top10_term[person2][i])\n",
        "  elif lab2[i]==6:\n",
        "        lab_6_per2.append(top10_term[person2][i])\n",
        "  elif lab2[i]==7:\n",
        "        lab_7_per2.append(top10_term[person2][i])\n",
        "  elif lab2[i]==8:\n",
        "        lab_8_per2.append(top10_term[person2][i])\n",
        "  elif lab2[i]==9:\n",
        "        lab_9_per2.append(top10_term[person2][i])"
      ],
      "metadata": {
        "id": "sDgYw7XrW3I4"
      },
      "execution_count": null,
      "outputs": []
    },
    {
      "cell_type": "code",
      "source": [
        "#####印出分群結果\n",
        "print(person1)\n",
        "print(lab_0_per1)\n",
        "print(lab_1_per1)\n",
        "print(lab_2_per1)\n",
        "print(lab_3_per1)\n",
        "print(lab_4_per1)\n",
        "print(lab_5_per1)\n",
        "print(lab_6_per1)\n",
        "print()\n",
        "print(person2)\n",
        "print(lab_0_per2)\n",
        "print(lab_1_per2)\n",
        "print(lab_2_per2)\n",
        "print(lab_3_per2)\n",
        "print(lab_4_per2)\n",
        "print(lab_5_per2)\n",
        "# print(lab_6_per2)"
      ],
      "metadata": {
        "id": "E8WXfNKpcMVu"
      },
      "execution_count": null,
      "outputs": []
    },
    {
      "cell_type": "code",
      "source": [
        "### 移除最大群 集合其他小群的字詞計算相似度\n",
        "total_len1=[len(lab_0_per1),len(lab_1_per1),len(lab_2_per1),len(lab_3_per1),len(lab_4_per1),len(lab_5_per1),len(lab_6_per1),len(lab_7_per1),len(lab_8_per1),len(lab_9_per1)]\n",
        "total_len2=[len(lab_0_per2),len(lab_1_per2),len(lab_2_per2),len(lab_3_per2),len(lab_4_per2),len(lab_5_per2),len(lab_6_per2),len(lab_7_per2),len(lab_8_per2),len(lab_9_per2)]\n",
        "\n",
        "max1=total_len1.index(max(total_len1))\n",
        "max2=total_len2.index(max(total_len2))\n",
        "\n",
        "lab_list1=[lab_0_per1,lab_1_per1,lab_2_per1,lab_3_per1,lab_4_per1,lab_5_per1,lab_6_per1,lab_7_per1,lab_8_per1,lab_9_per1]\n",
        "lab_list2=[lab_0_per2,lab_1_per2,lab_2_per2,lab_3_per2,lab_4_per2,lab_5_per2,lab_6_per2,lab_7_per2,lab_8_per2,lab_9_per2]\n",
        "\n",
        "cut_max1_KM=[]\n",
        "cut_max2_KM=[]\n",
        "\n",
        "for i in range(10):\n",
        "  if i != max1:\n",
        "    for j in lab_list1[i]:\n",
        "      cut_max1_KM.append(j)\n",
        "  if i != max2:\n",
        "    for j in lab_list2[i]:\n",
        "      cut_max2_KM.append(j)"
      ],
      "metadata": {
        "id": "dzvSV4KfW7Ew"
      },
      "execution_count": null,
      "outputs": []
    },
    {
      "cell_type": "code",
      "source": [
        "Similarity1_Similarity2(cut_max1_KM,cut_max2_KM)"
      ],
      "metadata": {
        "colab": {
          "base_uri": "https://localhost:8080/"
        },
        "id": "U7KCXT1bW-jg",
        "outputId": "5b7a3c05-24fa-47f5-ca3a-0144433a646a"
      },
      "execution_count": null,
      "outputs": [
        {
          "output_type": "execute_result",
          "data": {
            "text/plain": [
              "(0.2, 0.25)"
            ]
          },
          "metadata": {},
          "execution_count": 50
        }
      ]
    },
    {
      "cell_type": "markdown",
      "source": [
        "#### 畫出二維圖"
      ],
      "metadata": {
        "id": "IoSzGlqobh6m"
      }
    },
    {
      "cell_type": "code",
      "source": [
        "###跟上面的差別:會畫出圖 所以有把資料用PCA降成2維\n",
        "def display_pca_scatterplot_DBSCAN(model, words,graph_name):\n",
        "    # Take word vectors\n",
        "    word_vectors = np.array([model[w] for w in words])\n",
        "\n",
        "    # PCA, take the first 2 principal components\n",
        "    twodim = PCA().fit_transform(word_vectors)[:,:2]\n",
        "    texts = []\n",
        "    # Draw\n",
        "    plt.rcParams.update({'font.size': 18})\n",
        "    plt.figure(figsize=(6,6))\n",
        "    # plt.scatter(twodim[:,0], twodim[:,1], edgecolors='k', c='r')\n",
        "    for word, (x,y) in zip(words, twodim):\n",
        "        # plt.text(x+0.05, y+0.05, word)\n",
        "        texts.append(plt.text(x, y, word))\n",
        "\n",
        "    ### 以下為DBSCAN的部分\n",
        "    clustering=DBSCAN(eps=0.5,min_samples=1).fit(word_vectors)\n",
        "    print(clustering.labels_)\n",
        "    plt.scatter(twodim[:,0],twodim[:,1],c=clustering.labels_,s=100)\n",
        "    ### 以上為DBSCAN的部分\n",
        "\n",
        "\n",
        "    adjust_text(texts, only_move={'points':'y', 'texts':'y'}, arrowprops=dict(arrowstyle=\"->\", color='r', lw=0.5))\n",
        "    # plt.show()\n",
        "    plt.title(graph_name)\n",
        "    # plt.savefig('./20211103語音部分/圖檔/Part5/%s.png'%graph_name)\n",
        "\n",
        "    return clustering.labels_"
      ],
      "metadata": {
        "id": "yDx12L1Vakk_"
      },
      "execution_count": null,
      "outputs": []
    },
    {
      "cell_type": "code",
      "source": [
        "### 劃出圖的範例\n",
        "lab=display_pca_scatterplot_DBSCAN(word_vectors, top10_term['B1_5'],'B1_2(0.2)')"
      ],
      "metadata": {
        "colab": {
          "base_uri": "https://localhost:8080/",
          "height": 421
        },
        "id": "I7RIK5qZaoJ3",
        "outputId": "32397e5d-c10a-4200-adc3-bb9ccab8b7f9"
      },
      "execution_count": null,
      "outputs": [
        {
          "output_type": "stream",
          "name": "stdout",
          "text": [
            "[0 1 0 2 0 3 0 4 4 0]\n"
          ]
        },
        {
          "output_type": "display_data",
          "data": {
            "text/plain": [
              "<Figure size 432x432 with 1 Axes>"
            ],
            "image/png": "[encoded data removed]"
          },
          "metadata": {
            "needs_background": "light"
          }
        }
      ]
    },
    {
      "cell_type": "markdown",
      "source": [
        "### K-Means"
      ],
      "metadata": {
        "id": "DfOYNFbQU3Ij"
      }
    },
    {
      "cell_type": "code",
      "source": [
        "def display_kmeans(model, words):\n",
        "    # Take word vectors\n",
        "    word_vectors = np.array([model[w] for w in words])   \n",
        "    kmeans = KMeans(n_clusters=3, random_state=0).fit(word_vectors)\n",
        "    \n",
        "    return kmeans.labels_"
      ],
      "metadata": {
        "id": "DXIoiSjQU5Kk"
      },
      "execution_count": null,
      "outputs": []
    },
    {
      "cell_type": "code",
      "source": [
        "lab1=display_kmeans(word_vectors, top10_term[person1])\n",
        "lab2=display_kmeans(word_vectors, top10_term[person2])"
      ],
      "metadata": {
        "id": "lifK3BMIVE5o"
      },
      "execution_count": null,
      "outputs": []
    },
    {
      "cell_type": "code",
      "source": [
        "####儲存分群後每個群裡面有哪些字詞\n",
        "lab_0_per1=[]\n",
        "lab_1_per1=[]\n",
        "lab_2_per1=[]\n",
        "lab_3_per1=[]\n",
        "\n",
        "\n",
        "lab_0_per2=[]\n",
        "lab_1_per2=[]\n",
        "lab_2_per2=[]\n",
        "lab_3_per2=[]"
      ],
      "metadata": {
        "id": "yCbn9xiQXFLo"
      },
      "execution_count": null,
      "outputs": []
    },
    {
      "cell_type": "code",
      "source": [
        "### 把字詞分群 分別加入所屬list\n",
        "for i in range(10):\n",
        "  if lab1[i]==0:\n",
        "        lab_0_per1.append(top10_term[person1][i])\n",
        "  elif lab1[i]==1:\n",
        "        lab_1_per1.append(top10_term[person1][i])\n",
        "  elif lab1[i]==2:\n",
        "        lab_2_per1.append(top10_term[person1][i])\n",
        "  # elif lab1[i]==3:\n",
        "  #       lab_3_per1.append(top10_term[person1][i])\n",
        "\n",
        "\n",
        "  if lab2[i]==0:\n",
        "        lab_0_per2.append(top10_term[person2][i])\n",
        "  elif lab2[i]==1:\n",
        "        lab_1_per2.append(top10_term[person2][i])\n",
        "  elif lab2[i]==2:\n",
        "        lab_2_per2.append(top10_term[person2][i])\n",
        "  # elif lab2[i]==3:\n",
        "  #       lab_3_per2.append(top10_term[person2][i])"
      ],
      "metadata": {
        "id": "y461nqY4XHbo"
      },
      "execution_count": null,
      "outputs": []
    },
    {
      "cell_type": "code",
      "source": [
        "### 移除最大群 集合其他小群的字詞計算相似度\n",
        "total_len1=[len(lab_0_per1),len(lab_1_per1),len(lab_2_per1)]\n",
        "total_len2=[len(lab_0_per2),len(lab_1_per2),len(lab_2_per2)]\n",
        "\n",
        "max1=total_len1.index(max(total_len1))\n",
        "max2=total_len2.index(max(total_len2))\n",
        "\n",
        "lab_list1=[lab_0_per1,lab_1_per1,lab_2_per1]\n",
        "lab_list2=[lab_0_per2,lab_1_per2,lab_2_per2]\n",
        "\n",
        "cut_max1=[]\n",
        "cut_max2=[]\n",
        "\n",
        "for i in range(3):\n",
        "  if i != max1:\n",
        "    for j in lab_list1[i]:\n",
        "      cut_max1.append(j)\n",
        "  if i != max2:\n",
        "    for j in lab_list2[i]:\n",
        "      cut_max2.append(j)"
      ],
      "metadata": {
        "id": "Pq9QpYf9XKeI"
      },
      "execution_count": null,
      "outputs": []
    },
    {
      "cell_type": "code",
      "source": [
        "Similarity1_Similarity2(cut_max1,cut_max2)"
      ],
      "metadata": {
        "colab": {
          "base_uri": "https://localhost:8080/"
        },
        "id": "hMSbOTloXM3_",
        "outputId": "59952728-2689-4f7c-d87e-478db9a89bd2"
      },
      "execution_count": null,
      "outputs": [
        {
          "output_type": "execute_result",
          "data": {
            "text/plain": [
              "(0.5, 0.5)"
            ]
          },
          "metadata": {},
          "execution_count": 56
        }
      ]
    },
    {
      "cell_type": "markdown",
      "source": [
        "## Part1~3整合"
      ],
      "metadata": {
        "id": "WbV2OXU5Quvk"
      }
    },
    {
      "cell_type": "code",
      "source": [
        "def SummaryPart123(WithSW1,WithSW2,WithoutSW1,WithoutSW2,Semantic,DB1,DB2,KM1,KM2,Weight1,Weight2,Weight3):\n",
        "  Weighted1Result=(WithSW1+WithSW2+WithoutSW1+WithoutSW2)/4*Weight1\n",
        "  Weighted2Result=Semantic*Weight2\n",
        "  Weighted3Result=(DB1+DB2+KM1+KM2)/4*Weight3\n",
        "\n",
        "  TotalResult=Weighted1Result+Weighted2Result+Weighted3Result\n",
        "\n",
        "  return TotalResult"
      ],
      "metadata": {
        "id": "4Hcnjj8lQya0"
      },
      "execution_count": null,
      "outputs": []
    },
    {
      "cell_type": "code",
      "source": [
        "# Part 1\n",
        "### 路徑記得改\n",
        "### 人 語音段落 記得改\n",
        "# 人的選項 A1 A2 B1 B2 段落選項 en1 en2 en3 en4 en5\n",
        "person1='B1'\n",
        "person2='B2'\n",
        "en='5'\n",
        "paragraph='en'+en\n",
        "\n",
        "# with open('./20211103語音部分/%s/%s.txt'%(person1,paragraph), 'r') as f1:\n",
        "with open('./20220308語音加無線訊號/%s/%s.txt'%(person1,paragraph), 'r') as f1:\n",
        "  w1=calculate_word(f1)\n",
        "  output1=remove_stopword(w1)\n",
        "\n",
        "# with open('./20211103語音部分/%s/%s.txt'%(person2,paragraph), 'r') as f2:\n",
        "with open('./20220308語音加無線訊號/%s/%s.txt'%(person2,paragraph), 'r') as f2:\n",
        "  w2=calculate_word(f2)\n",
        "  output2=remove_stopword(w2)"
      ],
      "metadata": {
        "id": "Fl69ApI4Cd-_"
      },
      "execution_count": null,
      "outputs": []
    },
    {
      "cell_type": "code",
      "source": [
        "# Part 2\n",
        "person1=B1_5_label\n",
        "person2=B2_5_label\n",
        "\n",
        "InnerProduct=np.dot(np.array(person1), np.array(person2))"
      ],
      "metadata": {
        "id": "xM8-1tUuCkcN"
      },
      "execution_count": null,
      "outputs": []
    },
    {
      "cell_type": "code",
      "source": [
        "# Part 3\n",
        "person1='B1_5'\n",
        "person2='B2_5'\n",
        "\n",
        "##DBSCAN\n",
        "lab1=display_DBSCAN(word_vectors, top10_term[person1])\n",
        "lab2=display_DBSCAN(word_vectors, top10_term[person2])\n",
        "lab_0_per1=[]\n",
        "lab_1_per1=[]\n",
        "lab_2_per1=[]\n",
        "lab_3_per1=[]\n",
        "lab_4_per1=[]\n",
        "lab_5_per1=[]\n",
        "lab_6_per1=[]\n",
        "lab_7_per1=[]\n",
        "lab_8_per1=[]\n",
        "lab_9_per1=[]\n",
        "\n",
        "lab_0_per2=[]\n",
        "lab_1_per2=[]\n",
        "lab_2_per2=[]\n",
        "lab_3_per2=[]\n",
        "lab_4_per2=[]\n",
        "lab_5_per2=[]\n",
        "lab_6_per2=[]\n",
        "lab_7_per2=[]\n",
        "lab_8_per2=[]\n",
        "lab_9_per2=[]\n",
        "\n",
        "for i in range(10):\n",
        "  if lab1[i]==0:\n",
        "        lab_0_per1.append(top10_term[person1][i])\n",
        "  elif lab1[i]==1:\n",
        "        lab_1_per1.append(top10_term[person1][i])\n",
        "  elif lab1[i]==2:\n",
        "        lab_2_per1.append(top10_term[person1][i])\n",
        "  elif lab1[i]==3:\n",
        "        lab_3_per1.append(top10_term[person1][i])\n",
        "  elif lab1[i]==4:\n",
        "        lab_4_per1.append(top10_term[person1][i])\n",
        "  elif lab1[i]==5:\n",
        "        lab_5_per1.append(top10_term[person1][i])\n",
        "  elif lab1[i]==6:\n",
        "        lab_6_per1.append(top10_term[person1][i])\n",
        "  elif lab1[i]==7:\n",
        "        lab_7_per1.append(top10_term[person1][i])\n",
        "  elif lab1[i]==8:\n",
        "        lab_8_per1.append(top10_term[person1][i])\n",
        "  elif lab1[i]==9:\n",
        "        lab_9_per1.append(top10_term[person1][i])\n",
        "\n",
        "  if lab2[i]==0:\n",
        "        lab_0_per2.append(top10_term[person2][i])\n",
        "  elif lab2[i]==1:\n",
        "        lab_1_per2.append(top10_term[person2][i])\n",
        "  elif lab2[i]==2:\n",
        "        lab_2_per2.append(top10_term[person2][i])\n",
        "  elif lab2[i]==3:\n",
        "        lab_3_per2.append(top10_term[person2][i])\n",
        "  elif lab2[i]==4:\n",
        "        lab_4_per2.append(top10_term[person2][i])\n",
        "  elif lab2[i]==5:\n",
        "        lab_5_per2.append(top10_term[person2][i])\n",
        "  elif lab2[i]==6:\n",
        "        lab_6_per2.append(top10_term[person2][i])\n",
        "  elif lab2[i]==7:\n",
        "        lab_7_per2.append(top10_term[person2][i])\n",
        "  elif lab2[i]==8:\n",
        "        lab_8_per2.append(top10_term[person2][i])\n",
        "  elif lab2[i]==9:\n",
        "        lab_9_per2.append(top10_term[person2][i])\n",
        "\n",
        "total_len1=[len(lab_0_per1),len(lab_1_per1),len(lab_2_per1),len(lab_3_per1),len(lab_4_per1),len(lab_5_per1),len(lab_6_per1),len(lab_7_per1),len(lab_8_per1),len(lab_9_per1)]\n",
        "total_len2=[len(lab_0_per2),len(lab_1_per2),len(lab_2_per2),len(lab_3_per2),len(lab_4_per2),len(lab_5_per2),len(lab_6_per2),len(lab_7_per2),len(lab_8_per2),len(lab_9_per2)]\n",
        "\n",
        "max1=total_len1.index(max(total_len1))\n",
        "max2=total_len2.index(max(total_len2))\n",
        "\n",
        "lab_list1=[lab_0_per1,lab_1_per1,lab_2_per1,lab_3_per1,lab_4_per1,lab_5_per1,lab_6_per1,lab_7_per1,lab_8_per1,lab_9_per1]\n",
        "lab_list2=[lab_0_per2,lab_1_per2,lab_2_per2,lab_3_per2,lab_4_per2,lab_5_per2,lab_6_per2,lab_7_per2,lab_8_per2,lab_9_per2]\n",
        "\n",
        "cut_max1_KM=[]\n",
        "cut_max2_KM=[]\n",
        "\n",
        "for i in range(10):\n",
        "  if i != max1:\n",
        "    for j in lab_list1[i]:\n",
        "      cut_max1_KM.append(j)\n",
        "  if i != max2:\n",
        "    for j in lab_list2[i]:\n",
        "      cut_max2_KM.append(j)\n",
        "\n",
        "##K-Means\n",
        "lab1=display_kmeans(word_vectors, top10_term[person1])\n",
        "lab2=display_kmeans(word_vectors, top10_term[person2])\n",
        "\n",
        "lab_0_per1=[]\n",
        "lab_1_per1=[]\n",
        "lab_2_per1=[]\n",
        "lab_3_per1=[]\n",
        "\n",
        "\n",
        "lab_0_per2=[]\n",
        "lab_1_per2=[]\n",
        "lab_2_per2=[]\n",
        "lab_3_per2=[]\n",
        "\n",
        "for i in range(10):\n",
        "  if lab1[i]==0:\n",
        "        lab_0_per1.append(top10_term[person1][i])\n",
        "  elif lab1[i]==1:\n",
        "        lab_1_per1.append(top10_term[person1][i])\n",
        "  elif lab1[i]==2:\n",
        "        lab_2_per1.append(top10_term[person1][i])\n",
        "  # elif lab1[i]==3:\n",
        "  #       lab_3_per1.append(top10_term[person1][i])\n",
        "\n",
        "\n",
        "  if lab2[i]==0:\n",
        "        lab_0_per2.append(top10_term[person2][i])\n",
        "  elif lab2[i]==1:\n",
        "        lab_1_per2.append(top10_term[person2][i])\n",
        "  elif lab2[i]==2:\n",
        "        lab_2_per2.append(top10_term[person2][i])\n",
        "  # elif lab2[i]==3:\n",
        "  #       lab_3_per2.append(top10_term[person2][i])\n",
        "\n",
        "total_len1=[len(lab_0_per1),len(lab_1_per1),len(lab_2_per1)]\n",
        "total_len2=[len(lab_0_per2),len(lab_1_per2),len(lab_2_per2)]\n",
        "\n",
        "max1=total_len1.index(max(total_len1))\n",
        "max2=total_len2.index(max(total_len2))\n",
        "\n",
        "lab_list1=[lab_0_per1,lab_1_per1,lab_2_per1]\n",
        "lab_list2=[lab_0_per2,lab_1_per2,lab_2_per2]\n",
        "\n",
        "cut_max1=[]\n",
        "cut_max2=[]\n",
        "\n",
        "for i in range(3):\n",
        "  if i != max1:\n",
        "    for j in lab_list1[i]:\n",
        "      cut_max1.append(j)\n",
        "  if i != max2:\n",
        "    for j in lab_list2[i]:\n",
        "      cut_max2.append(j)"
      ],
      "metadata": {
        "id": "PO0x-dbCCX9t"
      },
      "execution_count": null,
      "outputs": []
    },
    {
      "cell_type": "code",
      "source": [
        "#Part 1\n",
        "WithStopWord1=Similarity1_Similarity2(w1,w2)[0]\n",
        "WithStopWord2=Similarity1_Similarity2(w1,w2)[1]\n",
        "\n",
        "WithoutStopWord1=Similarity1_Similarity2(output1,output2)[0]\n",
        "WithoutStopWord2=Similarity1_Similarity2(output1,output2)[1]\n",
        "\n",
        "# Part 2  ***記得修改是哪一段語音  Max_en'X'\n",
        "if en=='1':\n",
        "  Semantic_spaCy=InnerProduct/Max_en1\n",
        "elif en=='2':\n",
        "  Semantic_spaCy=InnerProduct/Max_en2\n",
        "elif en=='3':\n",
        "  Semantic_spaCy=InnerProduct/Max_en3\n",
        "elif en=='4':\n",
        "  Semantic_spaCy=InnerProduct/Max_en4\n",
        "elif en=='5':\n",
        "  Semantic_spaCy=InnerProduct/Max_en5  \n",
        "\n",
        "# Part 3\n",
        "DBSCAN1=Similarity1_Similarity2(cut_max1,cut_max2)[0]\n",
        "DBSCAN2=Similarity1_Similarity2(cut_max1,cut_max2)[1]\n",
        "\n",
        "KMeans1=Similarity1_Similarity2(cut_max1_KM,cut_max2_KM)[0]\n",
        "KMeans2=Similarity1_Similarity2(cut_max1_KM,cut_max2_KM)[1]\n",
        "\n",
        "print(person1,person2,en)\n",
        "### Weight相加=1\n",
        "# for i in range(1,9):\n",
        "#   print(i/10)\n",
        "#   for j in range(1,10-i):\n",
        "#     k=10-i-j\n",
        "#     Result=SummaryPart123(WithStopWord1,WithStopWord2,WithoutStopWord1,WithoutStopWord2,Semantic_spaCy,DBSCAN1,DBSCAN2,KMeans1,KMeans2,i/10,j/10,k/10)\n",
        "#     print(Result)\n",
        "\n",
        "### 先遮擋 gamma\n",
        "# for i in range(1,10):\n",
        "#   j=10-i\n",
        "#   Result=SummaryPart123(WithStopWord1,WithStopWord2,WithoutStopWord1,WithoutStopWord2,Semantic_spaCy,DBSCAN1,DBSCAN2,KMeans1,KMeans2,i/10,j/10,0)\n",
        "#   # print(i/10)\n",
        "#   print(Result)\n",
        "\n",
        "### 先遮擋 beta\n",
        "# for i in range(1,10):\n",
        "#   j=10-i\n",
        "#   Result=SummaryPart123(WithStopWord1,WithStopWord2,WithoutStopWord1,WithoutStopWord2,Semantic_spaCy,DBSCAN1,DBSCAN2,KMeans1,KMeans2,i/10,0,j/10)\n",
        "#   print(Result)\n",
        "\n",
        "\n",
        "### 先遮擋 alpha\n",
        "for i in range(1,10):\n",
        "  j=10-i\n",
        "  Result=SummaryPart123(WithStopWord1,WithStopWord2,WithoutStopWord1,WithoutStopWord2,Semantic_spaCy,DBSCAN1,DBSCAN2,KMeans1,KMeans2,0,i/10,j/10)\n",
        "  print(Result)"
      ],
      "metadata": {
        "id": "kVhYqxd3SVo7",
        "colab": {
          "base_uri": "https://localhost:8080/"
        },
        "outputId": "7d476698-d870-4f76-e53f-af8aea2dd3ee"
      },
      "execution_count": null,
      "outputs": [
        {
          "output_type": "stream",
          "name": "stdout",
          "text": [
            "B1_5 B2_5 5\n",
            "0.06676470588235295\n",
            "0.07241830065359478\n",
            "0.0780718954248366\n",
            "0.08372549019607843\n",
            "0.08937908496732026\n",
            "0.0950326797385621\n",
            "0.10068627450980391\n",
            "0.10633986928104575\n",
            "0.11199346405228758\n"
          ]
        }
      ]
    },
    {
      "cell_type": "code",
      "source": [
        "### 丟進Function\n",
        "# print(\"變動Weight1\")\n",
        "# for i in range(11):\n",
        "#   Result=SummaryPart123(WithStopWord1,WithStopWord2,WithoutStopWord1,WithoutStopWord2,Semantic_spaCy,DBSCAN1,DBSCAN2,KMeans1,KMeans2,i/10,1,1)\n",
        "#   print(Result)\n",
        "# print(\"變動Weight2\")\n",
        "# for i in range(11):\n",
        "#   Result=SummaryPart123(WithStopWord1,WithStopWord2,WithoutStopWord1,WithoutStopWord2,Semantic_spaCy,DBSCAN1,DBSCAN2,KMeans1,KMeans2,1,i/10,1)\n",
        "#   print(Result)\n",
        "# print(\"變動Weight3\")\n",
        "# for i in range(11):\n",
        "#   Result=SummaryPart123(WithStopWord1,WithStopWord2,WithoutStopWord1,WithoutStopWord2,Semantic_spaCy,DBSCAN1,DBSCAN2,KMeans1,KMeans2,1,1,i/10)\n",
        "#   print(Result)"
      ],
      "metadata": {
        "id": "XxccegwEFAYV"
      },
      "execution_count": null,
      "outputs": []
    },
    {
      "cell_type": "markdown",
      "source": [
        "## Signal Level"
      ],
      "metadata": {
        "id": "ouqPwECQHpiN"
      }
    },
    {
      "cell_type": "code",
      "source": [
        "### 要先把雜訊去除再做後續處理"
      ],
      "metadata": {
        "id": "yXueQBRZHs91"
      },
      "execution_count": null,
      "outputs": []
    },
    {
      "cell_type": "markdown",
      "source": [
        "### 去除雜訊"
      ],
      "metadata": {
        "id": "dYzSzY0iJ1rM"
      }
    },
    {
      "cell_type": "code",
      "source": [
        "!pip install noisereduce"
      ],
      "metadata": {
        "colab": {
          "base_uri": "https://localhost:8080/"
        },
        "id": "EukKWfYcJ3dd",
        "outputId": "065a565f-c70e-4e09-89bf-a0771d32b27b"
      },
      "execution_count": null,
      "outputs": [
        {
          "output_type": "stream",
          "name": "stdout",
          "text": [
            "Looking in indexes: https://pypi.org/simple, https://us-python.pkg.dev/colab-wheels/public/simple/\n",
            "Collecting noisereduce\n",
            "  Downloading noisereduce-2.0.1-py3-none-any.whl (15 kB)\n",
            "Requirement already satisfied: librosa in /usr/local/lib/python3.7/dist-packages (from noisereduce) (0.8.1)\n",
            "Requirement already satisfied: numpy in /usr/local/lib/python3.7/dist-packages (from noisereduce) (1.21.6)\n",
            "Requirement already satisfied: matplotlib in /usr/local/lib/python3.7/dist-packages (from noisereduce) (3.2.2)\n",
            "Requirement already satisfied: scipy in /usr/local/lib/python3.7/dist-packages (from noisereduce) (1.4.1)\n",
            "Requirement already satisfied: tqdm in /usr/local/lib/python3.7/dist-packages (from noisereduce) (4.64.0)\n",
            "Requirement already satisfied: soundfile>=0.10.2 in /usr/local/lib/python3.7/dist-packages (from librosa->noisereduce) (0.10.3.post1)\n",
            "Requirement already satisfied: scikit-learn!=0.19.0,>=0.14.0 in /usr/local/lib/python3.7/dist-packages (from librosa->noisereduce) (1.0.2)\n",
            "Requirement already satisfied: resampy>=0.2.2 in /usr/local/lib/python3.7/dist-packages (from librosa->noisereduce) (0.2.2)\n",
            "Requirement already satisfied: joblib>=0.14 in /usr/local/lib/python3.7/dist-packages (from librosa->noisereduce) (1.1.0)\n",
            "Requirement already satisfied: decorator>=3.0.0 in /usr/local/lib/python3.7/dist-packages (from librosa->noisereduce) (4.4.2)\n",
            "Requirement already satisfied: numba>=0.43.0 in /usr/local/lib/python3.7/dist-packages (from librosa->noisereduce) (0.51.2)\n",
            "Requirement already satisfied: pooch>=1.0 in /usr/local/lib/python3.7/dist-packages (from librosa->noisereduce) (1.6.0)\n",
            "Requirement already satisfied: audioread>=2.0.0 in /usr/local/lib/python3.7/dist-packages (from librosa->noisereduce) (2.1.9)\n",
            "Requirement already satisfied: packaging>=20.0 in /usr/local/lib/python3.7/dist-packages (from librosa->noisereduce) (21.3)\n",
            "Requirement already satisfied: llvmlite<0.35,>=0.34.0.dev0 in /usr/local/lib/python3.7/dist-packages (from numba>=0.43.0->librosa->noisereduce) (0.34.0)\n",
            "Requirement already satisfied: setuptools in /usr/local/lib/python3.7/dist-packages (from numba>=0.43.0->librosa->noisereduce) (57.4.0)\n",
            "Requirement already satisfied: pyparsing!=3.0.5,>=2.0.2 in /usr/local/lib/python3.7/dist-packages (from packaging>=20.0->librosa->noisereduce) (3.0.9)\n",
            "Requirement already satisfied: requests>=2.19.0 in /usr/local/lib/python3.7/dist-packages (from pooch>=1.0->librosa->noisereduce) (2.23.0)\n",
            "Requirement already satisfied: appdirs>=1.3.0 in /usr/local/lib/python3.7/dist-packages (from pooch>=1.0->librosa->noisereduce) (1.4.4)\n",
            "Requirement already satisfied: chardet<4,>=3.0.2 in /usr/local/lib/python3.7/dist-packages (from requests>=2.19.0->pooch>=1.0->librosa->noisereduce) (3.0.4)\n",
            "Requirement already satisfied: idna<3,>=2.5 in /usr/local/lib/python3.7/dist-packages (from requests>=2.19.0->pooch>=1.0->librosa->noisereduce) (2.10)\n",
            "Requirement already satisfied: certifi>=2017.4.17 in /usr/local/lib/python3.7/dist-packages (from requests>=2.19.0->pooch>=1.0->librosa->noisereduce) (2022.6.15)\n",
            "Requirement already satisfied: urllib3!=1.25.0,!=1.25.1,<1.26,>=1.21.1 in /usr/local/lib/python3.7/dist-packages (from requests>=2.19.0->pooch>=1.0->librosa->noisereduce) (1.24.3)\n",
            "Requirement already satisfied: six>=1.3 in /usr/local/lib/python3.7/dist-packages (from resampy>=0.2.2->librosa->noisereduce) (1.15.0)\n",
            "Requirement already satisfied: threadpoolctl>=2.0.0 in /usr/local/lib/python3.7/dist-packages (from scikit-learn!=0.19.0,>=0.14.0->librosa->noisereduce) (3.1.0)\n",
            "Requirement already satisfied: cffi>=1.0 in /usr/local/lib/python3.7/dist-packages (from soundfile>=0.10.2->librosa->noisereduce) (1.15.0)\n",
            "Requirement already satisfied: pycparser in /usr/local/lib/python3.7/dist-packages (from cffi>=1.0->soundfile>=0.10.2->librosa->noisereduce) (2.21)\n",
            "Requirement already satisfied: cycler>=0.10 in /usr/local/lib/python3.7/dist-packages (from matplotlib->noisereduce) (0.11.0)\n",
            "Requirement already satisfied: kiwisolver>=1.0.1 in /usr/local/lib/python3.7/dist-packages (from matplotlib->noisereduce) (1.4.3)\n",
            "Requirement already satisfied: python-dateutil>=2.1 in /usr/local/lib/python3.7/dist-packages (from matplotlib->noisereduce) (2.8.2)\n",
            "Requirement already satisfied: typing-extensions in /usr/local/lib/python3.7/dist-packages (from kiwisolver>=1.0.1->matplotlib->noisereduce) (4.1.1)\n",
            "Installing collected packages: noisereduce\n",
            "Successfully installed noisereduce-2.0.1\n"
          ]
        }
      ]
    },
    {
      "cell_type": "code",
      "source": [
        "from scipy.io import wavfile\n",
        "import noisereduce as nr"
      ],
      "metadata": {
        "id": "jLZfJXEuJ63E"
      },
      "execution_count": null,
      "outputs": []
    },
    {
      "cell_type": "code",
      "source": [
        "# load data\n",
        "rate, data = wavfile.read('./20211103語音部分/分段後音檔/B2_en5.wav')\n",
        "# perform noise reduction\n",
        "reduced_noise = nr.reduce_noise(y=data, sr=rate)\n",
        "wavfile.write('./20211103語音部分/去雜訊後音檔/B2_en5.wav', rate, reduced_noise)  ### 寫檔路徑"
      ],
      "metadata": {
        "id": "sbIXrRx_KI39"
      },
      "execution_count": null,
      "outputs": []
    },
    {
      "cell_type": "markdown",
      "source": [
        "### 後續處理"
      ],
      "metadata": {
        "id": "5gsiuWZVKTyd"
      }
    },
    {
      "cell_type": "code",
      "source": [
        "from scipy.io.wavfile import read\n",
        "import matplotlib.pyplot as plt\n",
        "import numpy as np\n",
        "from scipy.signal import argrelextrema\n",
        "import networkx as nx\n",
        "from community import community_louvain\n",
        "import random"
      ],
      "metadata": {
        "id": "Cm0NBS6lKWnM"
      },
      "execution_count": null,
      "outputs": []
    },
    {
      "cell_type": "code",
      "source": [
        "# 讀取 WAV 檔案\n",
        "rate, data = read('./20220308語音加無線訊號/去雜訊後音檔/A1_en4.wav')\n",
        "rate2, data2 = read('./20220308語音加無線訊號/去雜訊後音檔/A2_en4.wav')\n",
        "rate3, data3 = read('./20220308語音加無線訊號/去雜訊後音檔/B1_en4.wav')\n",
        "rate4, data4 = read('./20220308語音加無線訊號/去雜訊後音檔/B2_en4.wav')"
      ],
      "metadata": {
        "id": "31KSmJcEKdjF"
      },
      "execution_count": null,
      "outputs": []
    },
    {
      "cell_type": "code",
      "source": [
        "rate, data = read('./20211103語音部分/去雜訊後音檔/A1_en5.wav')\n",
        "rate2, data2 = read('./20211103語音部分/去雜訊後音檔/A2_en5.wav')\n",
        "rate3, data3 = read('./20211103語音部分/去雜訊後音檔/B1_en5.wav')\n",
        "rate4, data4 = read('./20211103語音部分/去雜訊後音檔/B2_en5.wav')"
      ],
      "metadata": {
        "id": "SxCznvJLV75M"
      },
      "execution_count": null,
      "outputs": []
    },
    {
      "cell_type": "code",
      "source": [
        "###演算法\n",
        "# 1.將資料取絕對值\n",
        "# 2.找出最大值 做normalize 然後乘上1000 所以會介於0~1000\n",
        "# 3.計算該時間區段有沒有講話"
      ],
      "metadata": {
        "id": "H3T51agaKmDM"
      },
      "execution_count": null,
      "outputs": []
    },
    {
      "cell_type": "code",
      "source": [
        "### 將資料取絕對值\n",
        "Data1Abs=abs(data)\n",
        "Data2Abs=abs(data2)\n",
        "Data3Abs=abs(data3)\n",
        "Data4Abs=abs(data4)"
      ],
      "metadata": {
        "id": "9wa-43gXKqB0"
      },
      "execution_count": null,
      "outputs": []
    },
    {
      "cell_type": "code",
      "source": [
        "### Normalize處理\n",
        "temp1=Data1Abs.max()\n",
        "temp2=Data2Abs.max()\n",
        "temp3=Data3Abs.max()\n",
        "temp4=Data4Abs.max()\n",
        "for i in range(len(Data1Abs)):\n",
        "  Data1Abs[i]=Data1Abs[i]/temp1*1000\n",
        "for j in range(len(Data2Abs)):\n",
        "  Data2Abs[j]=Data2Abs[j]/temp2*1000\n",
        "for k in range(len(Data3Abs)):\n",
        "  Data3Abs[k]=Data3Abs[k]/temp3*1000\n",
        "for l in range(len(Data4Abs)):\n",
        "  Data4Abs[l]=Data4Abs[l]/temp4*1000"
      ],
      "metadata": {
        "id": "Jb-W3OUQKsC-"
      },
      "execution_count": null,
      "outputs": []
    },
    {
      "cell_type": "code",
      "source": [
        "### 設定兩個Threshold \n",
        "Threshold_db=75 # 大於這個值就算有說話\n",
        "Threshold_Percentage=0.3 # 在一秒內超過這個比例有講話就算是這一秒有講話\n",
        "Second=0.25 # 設定時間區間(秒)\n",
        "TimePeriod=int(16000*Second) # 16000是以1秒為單位 8000是以0.5秒為單位"
      ],
      "metadata": {
        "id": "kA1KnGkGKwEs"
      },
      "execution_count": null,
      "outputs": []
    },
    {
      "cell_type": "code",
      "source": [
        "### 宣告說話時間說話時間List\n",
        "SpeakTime1=[]\n",
        "SpeakTime2=[]\n",
        "SpeakTime3=[]\n",
        "SpeakTime4=[]"
      ],
      "metadata": {
        "id": "ME2cOBokK2Kc"
      },
      "execution_count": null,
      "outputs": []
    },
    {
      "cell_type": "code",
      "source": [
        "length=min(len(Data1Abs),len(Data2Abs),len(Data3Abs),len(Data4Abs))  ###以最短那段為主\n",
        "Percent=TimePeriod*Threshold_Percentage\n",
        "for i in range(int(length/TimePeriod)):\n",
        "  counter1=0\n",
        "  counter2=0\n",
        "  counter3=0\n",
        "  counter4=0\n",
        "  for j in range(TimePeriod):\n",
        "    if Data1Abs[TimePeriod*i+j]>Threshold_db:\n",
        "      counter1+=1\n",
        "    if Data2Abs[TimePeriod*i+j]>Threshold_db:\n",
        "      counter2+=1\n",
        "    if Data3Abs[TimePeriod*i+j]>Threshold_db:\n",
        "      counter3+=1\n",
        "    if Data4Abs[TimePeriod*i+j]>Threshold_db:\n",
        "      counter4+=1\n",
        "  if counter1>Percent: #如果有達到一定比例 就算是那秒有講話 設定為1 否則為0\n",
        "    SpeakTime1.append(1)\n",
        "  else:\n",
        "    SpeakTime1.append(0)\n",
        "  if counter2>Percent: \n",
        "    SpeakTime2.append(1)\n",
        "  else:\n",
        "    SpeakTime2.append(0)\n",
        "  if counter3>Percent: \n",
        "    SpeakTime3.append(1)\n",
        "  else:\n",
        "    SpeakTime3.append(0)\n",
        "  if counter4>Percent: \n",
        "    SpeakTime4.append(1)\n",
        "  else:\n",
        "    SpeakTime4.append(0)"
      ],
      "metadata": {
        "id": "SUAMbyl1K5C0"
      },
      "execution_count": null,
      "outputs": []
    },
    {
      "cell_type": "code",
      "source": [
        "### 計算Hamming Distance\n",
        "def similarity(hash1_, hash2_):\n",
        "    return abs(hash1_-hash2_).sum()"
      ],
      "metadata": {
        "id": "QL3fvZH5K7nk"
      },
      "execution_count": null,
      "outputs": []
    },
    {
      "cell_type": "code",
      "source": [
        "### 轉換成numpy array 並把哪一個時間點有講話列出來  總共四個人\n",
        "SpeakTime1_arr=np.array(SpeakTime1)  #轉換\n",
        "SpeakTime2_arr=np.array(SpeakTime2)\n",
        "SpeakTime3_arr=np.array(SpeakTime3)\n",
        "SpeakTime4_arr=np.array(SpeakTime4)"
      ],
      "metadata": {
        "id": "DxcI0HwyK993"
      },
      "execution_count": null,
      "outputs": []
    },
    {
      "cell_type": "code",
      "source": [
        "###把時間點列出來\n",
        "print(np.where(SpeakTime1_arr >0))  #列出來\n",
        "print(np.where(SpeakTime2_arr >0))\n",
        "print(np.where(SpeakTime3_arr >0))\n",
        "print(np.where(SpeakTime4_arr >0))"
      ],
      "metadata": {
        "colab": {
          "base_uri": "https://localhost:8080/"
        },
        "id": "1TlkcfSeLJY8",
        "outputId": "581148fc-734d-4ed2-b482-d21e1b5a0da9"
      },
      "execution_count": null,
      "outputs": [
        {
          "output_type": "stream",
          "name": "stdout",
          "text": [
            "(array([  3,  25,  36,  42,  47, 114, 118, 136, 141, 142, 143, 148, 167,\n",
            "       175, 180, 201, 202, 223, 234, 235, 266, 267, 273, 274, 285, 295,\n",
            "       312, 354, 357, 360, 398, 399, 401, 402, 405, 426, 434, 469, 470,\n",
            "       471, 477]),)\n",
            "(array([  4,   8,   9,  10,  11,  16,  18,  19,  54,  55,  56,  57,  60,\n",
            "        63,  64,  65,  66,  67,  69,  70,  71,  76,  82,  86,  90,  96,\n",
            "        98, 101, 103, 104, 105, 115, 124, 125, 126, 127, 128, 129, 149,\n",
            "       153, 157, 159, 160, 161, 163, 168, 190, 191, 192, 193, 194, 195,\n",
            "       196, 202, 238, 254, 257, 258, 259, 260, 262, 274, 283, 284, 286,\n",
            "       287, 292, 296, 298, 299, 301, 304, 307, 308, 329, 330, 333, 336,\n",
            "       339, 344, 348, 349, 369, 370, 374, 376, 386, 387, 388, 413, 414,\n",
            "       415, 417, 419, 420, 427, 441, 442, 445, 446, 447, 449, 451, 460,\n",
            "       462, 463, 464, 465]),)\n",
            "(array([  2,   3,   4,   7,   9,  10,  11,  12,  19,  21,  25,  26,  27,\n",
            "        43,  47,  50,  51,  58,  61,  63,  75,  77,  97, 100, 101, 115,\n",
            "       116, 117, 143, 155, 192, 193, 194, 203, 230, 239, 249, 252, 253,\n",
            "       256, 275, 279, 304, 305, 311, 314, 315, 330, 336, 341, 345, 346,\n",
            "       368, 380, 388, 395, 412, 413, 415, 443, 480]),)\n",
            "(array([ 12,  54,  78, 117, 118, 119, 120, 121, 125, 128, 130, 131, 133,\n",
            "       136, 139, 140, 146, 147, 157, 158, 161, 162, 166, 167, 169, 185,\n",
            "       186, 195, 197, 198, 201, 203, 205, 206, 208, 210, 233, 252, 254,\n",
            "       255, 256, 257, 258, 259, 264, 268, 270, 272, 273, 275, 278, 280,\n",
            "       282, 288, 291, 292, 295, 296, 331, 332, 333, 334, 337, 338, 339,\n",
            "       342, 343, 344, 348, 349, 350, 351, 352, 355, 368, 370, 371, 372,\n",
            "       391, 414, 415, 416, 417, 418, 419, 420, 423, 427, 428, 432, 437,\n",
            "       441, 444, 445, 446, 449, 450, 451, 452, 456, 458, 461]),)\n"
          ]
        }
      ]
    },
    {
      "cell_type": "code",
      "source": [
        "### 把大家關係加到List 以利畫圖\n",
        "WeightList=[]\n",
        "WeightList.append(similarity(SpeakTime1_arr,SpeakTime2_arr)/int(length/TimePeriod)) ###同群 應該要大\n",
        "WeightList.append(similarity(SpeakTime1_arr,SpeakTime3_arr)/int(length/TimePeriod))\n",
        "WeightList.append(similarity(SpeakTime1_arr,SpeakTime4_arr)/int(length/TimePeriod))\n",
        "WeightList.append(similarity(SpeakTime2_arr,SpeakTime3_arr)/int(length/TimePeriod))\n",
        "WeightList.append(similarity(SpeakTime2_arr,SpeakTime4_arr)/int(length/TimePeriod))\n",
        "WeightList.append(similarity(SpeakTime3_arr,SpeakTime4_arr)/int(length/TimePeriod)) ###同群 應該要大"
      ],
      "metadata": {
        "id": "Xo2IsdhKLsTE"
      },
      "execution_count": null,
      "outputs": []
    },
    {
      "cell_type": "code",
      "source": [
        "### 把大家的關係印出來\n",
        "print(WeightList)"
      ],
      "metadata": {
        "colab": {
          "base_uri": "https://localhost:8080/"
        },
        "id": "Xnu48oeALt-D",
        "outputId": "3a51a1e0-84ee-477e-8305-12349ce3858b"
      },
      "execution_count": null,
      "outputs": [
        {
          "output_type": "stream",
          "name": "stdout",
          "text": [
            "[0.2975929978118162, 0.24726477024070023, 0.27571115973741794, 0.22538293216630198, 0.2188183807439825, 0.12910284463894967]\n"
          ]
        }
      ]
    },
    {
      "cell_type": "code",
      "source": [
        "def generate_network(WeightList):\n",
        "    G = nx.Graph()  # or DiGraph, MultiGraph, MultiDiGraph, etc\n",
        "    G.add_weighted_edges_from([('A1', 'A2', WeightList[0]),\n",
        "                               ('A1', 'B1', WeightList[1]),\n",
        "                               ('A1', 'B2', WeightList[2]),\n",
        "                               ('A2', 'B1', WeightList[3]),\n",
        "                               ('A2', 'B2', WeightList[4]),\n",
        "                               ('B1', 'B2', WeightList[5])\n",
        "                               ])\n",
        "    return G"
      ],
      "metadata": {
        "id": "BMy8DUkBzI5p"
      },
      "execution_count": null,
      "outputs": []
    },
    {
      "cell_type": "code",
      "source": [
        "G = generate_network(WeightList)\n",
        "comms = community_louvain.best_partition(G, randomize=True,resolution=1.35)\n",
        "print(comms)"
      ],
      "metadata": {
        "colab": {
          "base_uri": "https://localhost:8080/"
        },
        "id": "Hnjh2ta9z2u5",
        "outputId": "4811bc79-4495-4a8d-bea5-f5f7a95213c4"
      },
      "execution_count": null,
      "outputs": [
        {
          "output_type": "stream",
          "name": "stdout",
          "text": [
            "{'A1': 0, 'A2': 0, 'B1': 1, 'B2': 0}\n"
          ]
        }
      ]
    },
    {
      "cell_type": "code",
      "source": [
        "counter=1000\n",
        "CorrectNumber=0\n",
        "for i in range(counter):\n",
        "  comms = community_louvain.best_partition(G, randomize=True,resolution=1.35)\n",
        "  if (comms['A1'] == comms['A2']) and(comms['B1'] == comms['B2']) and(comms['A1'] != comms['B1']):\n",
        "    CorrectNumber+=1\n",
        "  elif (comms['A1'] == comms['A2'])and(comms['B1'] != comms['B2']) :\n",
        "    CorrectNumber+=0.5\n",
        "  elif (comms['B1'] == comms['B2'])and(comms['A1'] != comms['A2']):\n",
        "    CorrectNumber+=0.5\n",
        "  # print(comms)\n",
        "print(Threshold_db,Threshold_Percentage,Second)\n",
        "print(CorrectNumber/counter)"
      ],
      "metadata": {
        "colab": {
          "base_uri": "https://localhost:8080/"
        },
        "id": "_nAn3lqzEQLB",
        "outputId": "a3e06649-0579-49be-ba4e-54ef3178444f"
      },
      "execution_count": null,
      "outputs": [
        {
          "output_type": "stream",
          "name": "stdout",
          "text": [
            "75 0.3 0.25\n",
            "0.5\n"
          ]
        }
      ]
    },
    {
      "cell_type": "markdown",
      "source": [
        "## 畫圖區"
      ],
      "metadata": {
        "id": "BuAjEqvQCLVu"
      }
    },
    {
      "cell_type": "markdown",
      "source": [
        "### 4*4對稱矩陣顏色圖"
      ],
      "metadata": {
        "id": "5qcw_QbgCRM1"
      }
    },
    {
      "cell_type": "code",
      "source": [
        "from string import ascii_letters\n",
        "import numpy as np\n",
        "import pandas as pd\n",
        "import seaborn as sns\n",
        "import matplotlib.pyplot as plt\n",
        "import palettable\n",
        "from matplotlib.colors import ListedColormap"
      ],
      "metadata": {
        "id": "RJhoQi5rCNj2"
      },
      "execution_count": null,
      "outputs": []
    },
    {
      "cell_type": "code",
      "source": [
        "en1=[]"
      ],
      "metadata": {
        "id": "Cj1JJcr8CkDN"
      },
      "execution_count": null,
      "outputs": []
    },
    {
      "cell_type": "code",
      "source": [
        "plt.figure(figsize=(11,9),dpi=70)\n",
        "plt.title('English 5', fontsize=25)\n",
        "\n",
        "sns.heatmap(data=en5,\n",
        "            vmax=1, \n",
        "            vmin=0,\n",
        "            # cmap=palettable.cmocean.diverging.Curl_10.mpl_colors,\n",
        "            cmap=\"YlGnBu\",\n",
        "            # cmap=ListedColormap(['green', 'yellow', 'red','blue','pink']),\n",
        "            # cmap=\"gist_rainbow\",\n",
        "            annot=True,#图中数字文本显示\n",
        "            fmt=\".3f\",#格式化输出图中数字，即保留小数位数等\n",
        "            annot_kws={'size':30,'weight':'normal', 'color':'#aaaaaa'},#数字属性设置，例如字号、磅值、颜色   .      \n",
        "           )\n",
        "# plt.savefig('./20211103語音部分/圖檔/Part16/en5.png')  ###看要不要存檔"
      ],
      "metadata": {
        "id": "nOBmzjcXCl4e"
      },
      "execution_count": null,
      "outputs": []
    },
    {
      "cell_type": "markdown",
      "source": [
        "### 網絡關係圖"
      ],
      "metadata": {
        "id": "Pph1ZDWhCWKl"
      }
    },
    {
      "cell_type": "code",
      "source": [
        "import matplotlib.pyplot as plt\n",
        "import networkx as nx\n",
        "\n",
        "G = nx.Graph()\n",
        "\n",
        "###以下的Weight記得要改\n",
        "G.add_edge(\"A1\", \"A2\", weight=WeightList[0])\n",
        "G.add_edge(\"A1\", \"B1\", weight=WeightList[1])\n",
        "G.add_edge(\"A1\", \"B2\", weight=WeightList[2])\n",
        "G.add_edge(\"A2\", \"B1\", weight=WeightList[3])\n",
        "G.add_edge(\"A2\", \"B2\", weight=WeightList[4])\n",
        "G.add_edge(\"B1\", \"B2\", weight=WeightList[5])\n",
        "\n",
        "color=['#7FFF00','#7FFF00','#ff00ff','#ff00ff']  ### Node的顏色\n",
        "\n",
        "elarge = [(u, v) for (u, v, d) in G.edges(data=True)]\n",
        "\n",
        "\n",
        "pos = nx.spring_layout(G, seed=7)  # positions for all nodes - seed for reproducibility\n",
        "\n",
        "# nodes\n",
        "nx.draw_networkx_nodes(G, pos, node_size=1000,alpha=0.8,node_color=color)\n",
        "\n",
        "# edges\n",
        "nx.draw_networkx_edges(G, pos, edgelist=elarge, width=3)\n",
        "\n",
        "\n",
        "# node labels\n",
        "nx.draw_networkx_labels(G, pos, font_size=20, font_family=\"sans-serif\")\n",
        "# edge weight labels\n",
        "edge_labels = nx.get_edge_attributes(G, \"weight\")\n",
        "nx.draw_networkx_edge_labels(G, pos, edge_labels,label_pos=0.7,font_size=15)\n",
        "\n",
        "ax = plt.gca()\n",
        "ax.margins(0.08)\n",
        "plt.axis(\"off\")\n",
        "plt.tight_layout()\n",
        "plt.title('Threshold = 100',fontsize=20)  ###圖標題要改\n",
        "plt.show()"
      ],
      "metadata": {
        "colab": {
          "base_uri": "https://localhost:8080/",
          "height": 318
        },
        "id": "xzwiubtUCc-W",
        "outputId": "b286f641-7685-4859-a19e-01094aa57679"
      },
      "execution_count": null,
      "outputs": [
        {
          "output_type": "display_data",
          "data": {
            "text/plain": [
              "<Figure size 432x288 with 1 Axes>"
            ],
            "image/png": "[encoded data removed]"
          },
          "metadata": {}
        }
      ]
    },
    {
      "cell_type": "code",
      "source": [
        ""
      ],
      "metadata": {
        "id": "WBxBoy8hCbk2"
      },
      "execution_count": null,
      "outputs": []
    }
  ]
}