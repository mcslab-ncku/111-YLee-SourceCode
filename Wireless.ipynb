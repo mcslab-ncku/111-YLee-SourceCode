{
  "nbformat": 4,
  "nbformat_minor": 0,
  "metadata": {
    "colab": {
      "name": "Wireless_Yun.ipynb",
      "provenance": []
    },
    "kernelspec": {
      "name": "python3",
      "display_name": "Python 3"
    },
    "language_info": {
      "name": "python"
    }
  },
  "cells": [
    {
      "cell_type": "code",
      "execution_count": null,
      "metadata": {
        "colab": {
          "base_uri": "https://localhost:8080/"
        },
        "id": "YBXNlHab69Gs",
        "outputId": "2c8266ca-a6f5-4d6a-a6de-1e1f6136c18b"
      },
      "outputs": [
        {
          "output_type": "stream",
          "name": "stdout",
          "text": [
            "Mounted at /content/drive\n"
          ]
        }
      ],
      "source": [
        "from google.colab import drive\n",
        "drive.mount('/content/drive') # 此處需要登入 google 帳號\n",
        "\n",
        "import os\n",
        "\n",
        "os.chdir('/content/drive/My Drive/MyResearch') #切換該目錄"
      ]
    },
    {
      "cell_type": "code",
      "source": [
        "!pip install pykalman"
      ],
      "metadata": {
        "colab": {
          "base_uri": "https://localhost:8080/"
        },
        "id": "LW2f8V9w7GQ-",
        "outputId": "92e6810d-c6e1-46f4-f57a-99f1ee78dd46"
      },
      "execution_count": null,
      "outputs": [
        {
          "output_type": "stream",
          "name": "stdout",
          "text": [
            "Collecting pykalman\n",
            "  Downloading pykalman-0.9.5.tar.gz (228 kB)\n",
            "\u001b[K     |████████████████████████████████| 228 kB 5.3 MB/s \n",
            "\u001b[?25hBuilding wheels for collected packages: pykalman\n",
            "  Building wheel for pykalman (setup.py) ... \u001b[?25l\u001b[?25hdone\n",
            "  Created wheel for pykalman: filename=pykalman-0.9.5-py3-none-any.whl size=48462 sha256=ed155275dac2fbb8fd7b782cf854e492a9eac62afd498e238eb7020429b6aead\n",
            "  Stored in directory: /root/.cache/pip/wheels/6a/04/02/2dda6ea59c66d9e685affc8af3a31ad3a5d87b7311689efce6\n",
            "Successfully built pykalman\n",
            "Installing collected packages: pykalman\n",
            "Successfully installed pykalman-0.9.5\n"
          ]
        }
      ]
    },
    {
      "cell_type": "code",
      "source": [
        "import math\n",
        "import csv\n",
        "import os\n",
        "import time\n",
        "from itertools import combinations, permutations\n",
        "import statistics\n",
        "import matplotlib.pyplot as plt\n",
        "import numpy as np\n",
        "import pandas as pd\n",
        "import plotly.graph_objects as go\n",
        "import plotly.io as pio\n",
        "import pydot\n",
        "from pykalman import KalmanFilter\n",
        "from scipy.spatial.distance import cosine\n",
        "from sklearn import metrics\n",
        "from sklearn.ensemble import AdaBoostClassifier\n",
        "from sklearn.metrics import make_scorer\n",
        "from sklearn.metrics import plot_confusion_matrix\n",
        "from sklearn.model_selection import GridSearchCV, KFold, train_test_split\n",
        "from sklearn.tree import DecisionTreeClassifier as DTC\n",
        "from sklearn.tree import export_graphviz\n",
        "from statsmodels.tsa.api import ExponentialSmoothing, Holt, SimpleExpSmoothing\n",
        "from scipy.signal import savgol_filter"
      ],
      "metadata": {
        "colab": {
          "base_uri": "https://localhost:8080/"
        },
        "id": "lAk2ovqD7IAV",
        "outputId": "9effbbbb-16a4-4115-ff6a-1a9c463f9b1a"
      },
      "execution_count": null,
      "outputs": [
        {
          "output_type": "stream",
          "name": "stderr",
          "text": [
            "/usr/local/lib/python3.7/dist-packages/statsmodels/tools/_testing.py:19: FutureWarning: pandas.util.testing is deprecated. Use the functions in the public API at pandas.testing instead.\n",
            "  import pandas.util.testing as tm\n"
          ]
        }
      ]
    },
    {
      "cell_type": "code",
      "source": [
        "allzero = \"./20220510無線訊號/Wireless/allzero.csv\"\n",
        "\n",
        "sniffer0 = \"./20220510無線訊號/Wireless/sniffer_zero.csv\"\n",
        "sniffer1 = \"./20220510無線訊號/Wireless/sniffer_one.csv\"\n",
        "sniffer2 = \"./20220510無線訊號/Wireless/sniffer_two.csv\"\n",
        "sniffer3 = \"./20220510無線訊號/Wireless/sniffer_three.csv\"\n",
        "sniffer5 = \"./20220510無線訊號/Wireless/sniffer_five.csv\"\n",
        "\n",
        "sniffer_list = [sniffer0,sniffer1,sniffer2,sniffer3,sniffer5]\n",
        "# file_name_list_test = [sniffer0, sniffer1]\n",
        "\n",
        "alpha = 0.5\n",
        "\n",
        "start_time = '20220510 14:51:30'\n",
        "end_time = '20220510 15:11:30'\n",
        "start_time = start_time[9:len(start_time)]\n",
        "end_time = end_time[9:len(end_time)]\n",
        "\n",
        "mac_queue=['0000ce9c-0000-1000-8000-00805f9b34fb', # u ultra\n",
        "       '000027ef-0000-1000-8000-00805f9b34fb', # u11\n",
        "       '0000b1fc-0000-1000-8000-00805f9b34fb', # V4025\n",
        "       '0000f22e-0000-1000-8000-00805f9b34fb', # u19e\n",
        "       '0000dd9b-0000-1000-8000-00805f9b34fb', # V4445\n",
        "       '0000950b-0000-1000-8000-00805f9b34fb', # MotoG\n",
        "       '00007dd1-0000-1000-8000-00805f9b34fb'] # a51\n",
        "\n",
        "# dev_queue=['dev1','dev2','dev3','dev4','dev5','dev6','dev7']\n",
        "dev_queue=['UUltra','U11','V4025','U19e','V4445','MotoG','A51']"
      ],
      "metadata": {
        "id": "d_284VnK7LT9"
      },
      "execution_count": null,
      "outputs": []
    },
    {
      "cell_type": "code",
      "source": [
        "### RSSI正規化\n",
        "def getNormalize(column):\n",
        "    column = ( column - column.min() ) / ( column.max() - column.min() ) * 100\n",
        "    return column"
      ],
      "metadata": {
        "id": "1VjafBh_7RGF"
      },
      "execution_count": null,
      "outputs": []
    },
    {
      "cell_type": "code",
      "source": [
        "### 簡易指數平滑，降噪用\n",
        "def getSES(probe, alpha=None, auto=True):\n",
        "    # # print(type(probe.mean()))\n",
        "    if math.isnan(probe.mean()):\n",
        "        # print(probe.mean())\n",
        "        ses=pd.read_csv(allzero, sep=',', parse_dates=[0], error_bad_lines=False, warn_bad_lines=False,encoding='ISO-8859-15')\n",
        "        ses = ses.set_index('time')\n",
        "        ses.RSSI.loc[ses.RSSI!=0]=0\n",
        "        print(ses)\n",
        "        return ses\n",
        "    fit = SimpleExpSmoothing(probe).fit(smoothing_level=alpha, optimized=auto)\n",
        "    ses = fit.fittedvalues.shift(-1)\n",
        "    ses = pd.DataFrame(ses).reset_index()\n",
        "    ses.columns = ['time','RSSI']\n",
        "    ses = ses.set_index('time')\n",
        "    # ses.to_csv('allZero.log')\n",
        "    return ses"
      ],
      "metadata": {
        "id": "WZmPBHyt7XIY"
      },
      "execution_count": null,
      "outputs": []
    },
    {
      "cell_type": "code",
      "source": [
        "def getRawData(filename, device_mac):\n",
        "  df = pd.read_csv(filename, parse_dates=[0])\n",
        "  df.columns = ['time','mac','type','RSSI','uuid']\n",
        "  rate='1'\n",
        "  df = df.set_index('time')\n",
        "  df = df.between_time(start_time, end_time)\n",
        "  df = df[(df.mac == device_mac)|(df.uuid == device_mac)].resample(rate+'S').agg(dict(RSSI='max'))\n",
        "  # 正規化\n",
        "  df.RSSI = getNormalize(df.RSSI).fillna(0)\n",
        "  # 平滑化\n",
        "  SES = getSES(df.RSSI, alpha, False).dropna()\n",
        "  return SES"
      ],
      "metadata": {
        "id": "VvN2ImcP7bf-"
      },
      "execution_count": null,
      "outputs": []
    },
    {
      "cell_type": "code",
      "source": [
        "### 將不同sniffer中關於同一手機資料蒐集在一起\n",
        "def merge_All_Sniffer_Data_about_one_Phone(sniffer_list, mac_name):\n",
        "    mergedata = getRawData(sniffer_list[0], mac_name)\n",
        "    for sniffer in sniffer_list[1:] :\n",
        "        mergedata = pd.merge(mergedata,getRawData(sniffer,mac_name),on='time',how='outer').sort_values(by='time').fillna(0)\n",
        "    mergedata.columns = ['sniffer0','sniffer1','sniffer2','sniffer3','sniffer5']\n",
        "    return mergedata"
      ],
      "metadata": {
        "id": "UFO3HG3N7dKO"
      },
      "execution_count": null,
      "outputs": []
    },
    {
      "cell_type": "code",
      "source": [
        "def Inner_Product(first, second):\n",
        "    ans = 0\n",
        "    for i in range(5):\n",
        "        ans = ans + first[i] * second[i]\n",
        "    return ans"
      ],
      "metadata": {
        "id": "59q9SGsO7gOO"
      },
      "execution_count": null,
      "outputs": []
    },
    {
      "cell_type": "code",
      "source": [
        "### 計算2台phone之間的pairwise mobility relaionship\n",
        "def getPairwiseMobilityRelationship(first_user, second_user):\n",
        "    ans = 0\n",
        "    min_between_input = min(len(second_user.index), len(first_user.index))\n",
        "    # print(first_user, second_user)\n",
        "    for i in range(min_between_input):\n",
        "        ans = ans + Inner_Product(first_user.iloc[i], second_user.iloc[i])\n",
        "    \n",
        "    return ans / min_between_input / 5 / 5"
      ],
      "metadata": {
        "id": "lCO9mX3g7ibO"
      },
      "execution_count": null,
      "outputs": []
    },
    {
      "cell_type": "code",
      "source": [
        "spatio_temporal_feature_pattern = []\n",
        "mac_queue_test = [mac_queue[5], mac_queue[6]]\n",
        "for mac in mac_queue_test:\n",
        "    spatio_temporal_feature_pattern.append(merge_All_Sniffer_Data_about_one_Phone(sniffer_list, mac))\n",
        "# print(spatio_temporal_feature_pattern)\n",
        "C = getPairwiseMobilityRelationship(spatio_temporal_feature_pattern[0], spatio_temporal_feature_pattern[1])\n",
        "print(C)"
      ],
      "metadata": {
        "colab": {
          "base_uri": "https://localhost:8080/"
        },
        "id": "B64IbGIC7l_u",
        "outputId": "e7174da6-a9cb-4f06-c1f1-7aa084eee2a0"
      },
      "execution_count": null,
      "outputs": [
        {
          "output_type": "stream",
          "name": "stderr",
          "text": [
            "/usr/local/lib/python3.7/dist-packages/ipykernel_launcher.py:4: FutureWarning: Passing 'suffixes' which cause duplicate columns {'RSSI_x'} in the result is deprecated and will raise a MergeError in a future version.\n",
            "  after removing the cwd from sys.path.\n"
          ]
        },
        {
          "output_type": "stream",
          "name": "stdout",
          "text": [
            "62.41523487269395\n"
          ]
        }
      ]
    },
    {
      "cell_type": "code",
      "source": [
        "counter=len(mac_queue)\n",
        "for i in range(len(mac_queue)-1):\n",
        "  for j in range(1,counter):\n",
        "    mac_queue_test = [mac_queue[i], mac_queue[i+j]]\n",
        "    spatio_temporal_feature_pattern = []\n",
        "    for mac in mac_queue_test:\n",
        "        spatio_temporal_feature_pattern.append(merge_All_Sniffer_Data_about_one_Phone(sniffer_list, mac))\n",
        "    # print(spatio_temporal_feature_pattern)\n",
        "    C = getPairwiseMobilityRelationship(spatio_temporal_feature_pattern[0], spatio_temporal_feature_pattern[1])\n",
        "    print(dev_queue[i],dev_queue[i+j],C)\n",
        "  counter-=1"
      ],
      "metadata": {
        "colab": {
          "base_uri": "https://localhost:8080/"
        },
        "id": "ZwCsA-gW7rRG",
        "outputId": "a9514042-94a8-4981-d8cd-910ccc2efddc"
      },
      "execution_count": null,
      "outputs": [
        {
          "output_type": "stream",
          "name": "stderr",
          "text": [
            "/usr/local/lib/python3.7/dist-packages/ipykernel_launcher.py:4: FutureWarning: Passing 'suffixes' which cause duplicate columns {'RSSI_x'} in the result is deprecated and will raise a MergeError in a future version.\n",
            "  after removing the cwd from sys.path.\n"
          ]
        },
        {
          "output_type": "stream",
          "name": "stdout",
          "text": [
            "UUltra U11 22.179332571385785\n",
            "UUltra V4025 31.609449612359544\n",
            "UUltra U19e 33.93070880461174\n",
            "UUltra V4445 113.46806008299946\n",
            "UUltra MotoG 74.80833281518348\n",
            "UUltra A51 48.659544157224296\n",
            "U11 V4025 35.59634456008145\n",
            "U11 U19e 84.76371127862973\n",
            "U11 V4445 44.603988878819145\n",
            "U11 MotoG 26.459918916264108\n",
            "U11 A51 16.287316530218888\n",
            "V4025 U19e 56.25828384945987\n",
            "V4025 V4445 65.83607178323956\n",
            "V4025 MotoG 37.52875466062252\n",
            "V4025 A51 24.43039653777684\n",
            "U19e V4445 66.64238551959204\n",
            "U19e MotoG 36.708745042310895\n",
            "U19e A51 23.031061743701486\n",
            "V4445 MotoG 130.93117151165734\n",
            "V4445 A51 85.13100569823737\n",
            "MotoG A51 62.41523487269395\n"
          ]
        }
      ]
    }
  ]
}